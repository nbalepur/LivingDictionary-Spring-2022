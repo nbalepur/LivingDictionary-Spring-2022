{
 "cells": [
  {
   "cell_type": "code",
   "execution_count": 77,
   "id": "e04c52e1",
   "metadata": {},
   "outputs": [],
   "source": [
    "import pandas as pd\n",
    "import ast"
   ]
  },
  {
   "cell_type": "code",
   "execution_count": 80,
   "id": "8d4b59ba",
   "metadata": {},
   "outputs": [],
   "source": [
    "df = pd.read_csv(\"sentence_split_top5.csv\")\n",
    "df[\"questions\"] = df[\"questions\"].apply(ast.literal_eval)\n",
    "df[\"answers\"] = df[\"answers\"].apply(ast.literal_eval)\n",
    "df[\"scores\"] = df[\"scores\"].apply(ast.literal_eval)"
   ]
  },
  {
   "cell_type": "code",
   "execution_count": 83,
   "id": "a16fae94",
   "metadata": {},
   "outputs": [],
   "source": [
    "def get_question_answers(topic):\n",
    "    data = df[df[\"topic\"] == topic]\n",
    "    \n",
    "    print(\"\\n================\\n  SUMMARY TEXT\\n================\\n\")\n",
    "    \n",
    "    is_summary = True\n",
    "    for idx, row in data.iterrows():\n",
    "        if is_summary and row[\"section\"] != \"Summary\":\n",
    "            print(\"\\n================\\nNON-SUMMARY TEXT\\n================\\n\")\n",
    "            is_summary = False\n",
    "        \n",
    "        for i in range(len(row[\"questions\"])):\n",
    "            print(f\"Q: {row['questions'][i]} ||| A: {row['answers'][i]} ||| score: {row['scores'][i]}\")"
   ]
  },
  {
   "cell_type": "code",
   "execution_count": 86,
   "id": "ff558fa1",
   "metadata": {
    "scrolled": true
   },
   "outputs": [
    {
     "name": "stdout",
     "output_type": "stream",
     "text": [
      "\n",
      "================\n",
      "  SUMMARY TEXT\n",
      "================\n",
      "\n",
      "Q:  Machine learning algorithms build a model based on what? ||| A: sample data ||| score: 0.8054902255535126\n",
      "Q:  What is training data? ||| A: sample data ||| score: 0.9565122723579407\n",
      "Q:  Machine learning is used in medicine, email filtering, speech recognition, and computer vision? ||| A: Machine learning ||| score: 0.022041426971554756\n",
      "Q:  Where is it difficult or unfavorable to develop conventional algorithms to perform the needed tasks? ||| A: unfeasible ||| score: 0.6528015434741974\n",
      "Q:  What is a related field of study? ||| A: Data mining ||| score: 0.936706006526947\n",
      "Q:  What does data mining focus on? ||| A: exploratory data analysis through unsupervised learning ||| score: 0.7350618243217468\n",
      "Q:  Some implementations of machine learning use data and neural networks in a way that mimics the working of what? ||| A: a biological brain ||| score: 0.8518088459968567\n",
      "Q:  Machine learning is also referred to as what in its application across business problems? ||| A: predictive analytics ||| score: 0.9938589036464691\n",
      "Q:  Machine learning is also referred to as what? ||| A: predictive analytics ||| score: 0.9893425405025482\n",
      "\n",
      "================\n",
      "NON-SUMMARY TEXT\n",
      "================\n",
      "\n",
      "Q:  What percentage of families have geographically separate species with color variants? ||| A: X% ||| score: 0.9154024422168732\n",
      "Q:  What is the chance that undiscovered black swans exist? ||| A: Y% ||| score: 0.8777832686901093\n",
      "Q:  What is it possible to program for simple tasks assigned to computers? ||| A: algorithms ||| score: 0.8527903258800507\n",
      "Q:  What is needed on the computer's part to solve the problem at hand? ||| A: no learning ||| score: 0.5934649407863617\n",
      "Q:  For more advanced tasks, it can be challenging for a human to manually create what? ||| A: the needed algorithms ||| score: 0.8385758399963379\n",
      "Q:  What can be challenging for a human to manually create the needed algorithms? ||| A: more advanced tasks ||| score: 0.8109094500541687\n",
      "Q:  What can turn out to be more effective to help the machine develop its own algorithm? ||| A: manually create the needed algorithms ||| score: 0.2679069861769676\n",
      "Q:  What can be used as training data for the computer to improve? ||| A: algorithm(s) it uses to determine correct answers. For example, to train a system for the task of digital character recognition, the MNIST dataset of handwritten digits ||| score: 0.25001735240221024\n",
      "Q:  What dataset has often been used to train a system for the task of digital character recognition? ||| A: MNIST ||| score: 0.5340260416269302\n",
      "Q:  What was a representative book of machine learning research during the 1960's? ||| A: Nilsson's book on Learning Machines ||| score: 0.815002828836441\n",
      "Q:  What was the main focus of Nilsson's book? ||| A: machine learning for pattern classification ||| score: 0.7472980916500092\n",
      "Q:  When did Duda and Hart describe interest in pattern recognition? ||| A: 1973 ||| score: 0.9678431749343872\n",
      "Q:  In what year was Hart born? ||| A: 1973 ||| score: 0.03412206284701824\n",
      "Q:  How many characters does a neural network learn to recognize from a computer terminal? ||| A: 40 ||| score: 0.9272209107875824\n",
      "Q:  What is replaced by the question \"Can machines do what we can do?\" ||| A: as thinking entities ||| score: 0.11634111404418945\n",
      "Q:  What can a machine learning algorithm for stock trading inform the trader of? ||| A: future potential predictions ||| score: 0.95827516913414\n",
      "Q:  What is considered representative of the space of occurrences? ||| A: probability distribution ||| score: 0.7974168062210083\n",
      "Q:  The learner has to build a general model about what space? ||| A: probability distribution ||| score: 0.4634510576725006\n",
      "Q:  What is one way to quantify generalization error? ||| A: bias–variance decomposition ||| score: 0.7825210392475128\n",
      "Q:  What are probabilistic bounds on performance? ||| A: quite common ||| score: 0.6988092362880707\n",
      "Q:  What happens if the complexity of the model is increased in response? ||| A: the training error decreases ||| score: 0.8028956651687622\n",
      "Q:  If the hypothesis is too complex, what happens to the model? ||| A: subject to overfitting ||| score: 0.4440908133983612\n",
      "Q:  How many kinds of time complexity results are there? ||| A: two ||| score: 0.918920636177063\n",
      "Q:  Positive results show that a certain class of functions can be learned in what time? ||| A: polynomial time ||| score: 0.6468961387872696\n",
      "Q:  Negative results show what? ||| A: certain classes cannot be learned in polynomial time ||| score: 0.7615303695201874\n",
      "Q:  When did Netflix realize that viewers' ratings were not the best indicators of their viewing patterns? ||| A: Shortly after the prize was awarded ||| score: 0.9351906478404999\n",
      "Q:  What did Netflix change their recommendation engine accordingly? ||| A: viewers' ratings were not the best indicators of their viewing patterns ||| score: 0.304563008248806\n",
      "Q:  When did The Wall Street Journal write about the firm Rebellion Research? ||| A: 2010 ||| score: 0.9475529491901398\n",
      "Q:  What company uses machine learning to predict the financial crisis? ||| A: Rebellion Research ||| score: 0.9933796525001526\n",
      "Q:  Who was the co-founder of Sun Microsystems in 2012? ||| A: Vinod Khosla ||| score: 0.9943157732486725\n",
      "Q:  What percentage of medical doctors' jobs would be lost in the next two decades due to automated machine learning? ||| A: 80% ||| score: 0.9673645198345184\n",
      "Q:  In what year was a machine learning algorithm used to study fine art paintings? ||| A: 2014 ||| score: 0.9668948352336884\n",
      "Q:  What was the name of the first research book created using machine learning? ||| A: Springer Nature ||| score: 0.9664247035980225\n",
      "Q:  In what year did Springer Nature publish the first research book created using machine learning? ||| A: 2019 ||| score: 0.9875976145267487\n",
      "Q:  In 2020, what was machine learning used to help make diagnoses and aid researchers in developing a cure for? ||| A: COVID-19 ||| score: 0.9002302289009094\n",
      "Q:  Machine learning is recently applied to predict what behavior of human-being? ||| A: green ||| score: 0.7844447493553162\n",
      "Q:  What is the green behavior of human-being? ||| A: Machine learning ||| score: 0.06600278243422508\n",
      "Q:  What is applied to optimise smartphone's performance and thermal behavior? ||| A: machine learning technology ||| score: 0.8381969928741455\n",
      "Q:  What can bootstrap be used to assess? ||| A: model accuracy ||| score: 0.9899246394634247\n",
      "Q:  How many instances does bootstrap sample? ||| A: n ||| score: 0.886672854423523\n",
      "Q:  What is an effective method to express a model's diagnostic ability? ||| A: The total operating characteristic ||| score: 0.5672318637371063\n",
      "Q:  What does TOC show the numerators and denominators of? ||| A: the previously mentioned rates ||| score: 0.8237277269363403\n",
      "Q:  What provides more information than the commonly used receiver operating characteristic (ROC) and ROC's associated area under the curve? ||| A: total operating characteristic ||| score: 0.21118485182523727\n",
      "Q:  What year did the UK's Commission for Racial Equality find that St. George's Medical School had been using a computer program? ||| A: 1988 ||| score: 0.9878466427326202\n",
      "Q:  How many candidates were denied by the computer program that was trained from data of previous admissions staff? ||| A: nearly 60 ||| score: 0.7855466306209564\n",
      "Q:  What type of names were used? ||| A: non-European sounding names ||| score: 0.17669279873371124\n",
      "Q:  What may lead to a machine learning system duplicating the bias? ||| A: Using job hiring data from a firm with racist hiring policies ||| score: 0.8481221199035645\n",
      "Q:  How are job applicants scored? ||| A: similarity to previous successful applicants ||| score: 0.7286947965621948\n",
      "Q:  What is a critical part of machine learning? ||| A: Responsible collection of data and documentation of algorithmic rules ||| score: 0.6595415025949478\n",
      "Q:  What is responsible collection of data and documentation of? ||| A: algorithmic rules ||| score: 0.8913416564464569\n",
      "Q:  Why do human languages contain biases? ||| A: machines trained on language corpora will necessarily also learn these biases ||| score: 0.3158797025680542\n",
      "Q:  Machines trained on language corpora will learn what? ||| A: biases ||| score: 0.516608938574791\n",
      "Q:  Where is there a long-standing ethical dilemma of improving health care but also increasing profits? ||| A: the United States ||| score: 0.8110209405422211\n",
      "Q:  What could algorithms be designed to provide patients with? ||| A: unnecessary tests or medication ||| score: 0.924702376127243\n",
      "Q:  What do the proprietary owners of the algorithm hold stakes in? ||| A: unnecessary tests or medication ||| score: 0.7524944841861725\n",
      "Q:  There is potential for machine learning in health care to provide what? ||| A: professionals an additional tool to diagnose, medicate, and plan recovery paths for patients ||| score: 0.5451114773750305\n",
      "Q:  OpenAI estimated the hardware compute used in the largest deep learning projects from AlexNet (2012) to what? ||| A: AlphaZero ||| score: 0.7128137648105621\n",
      "Q:  OpenAI found a 300,000-fold increase in the amount of compute required, with a doubling-time trendline of how long? ||| A: 3.4 months ||| score: 0.8791193962097168\n"
     ]
    }
   ],
   "source": [
    "get_question_answers(\"machine learning\")"
   ]
  },
  {
   "cell_type": "code",
   "execution_count": 85,
   "id": "af95ebbb",
   "metadata": {
    "scrolled": true
   },
   "outputs": [
    {
     "name": "stdout",
     "output_type": "stream",
     "text": [
      "\n",
      "================\n",
      "  SUMMARY TEXT\n",
      "================\n",
      "\n",
      "Q:  What are some examples of GA applications? ||| A: optimizing decision trees for better performance, automatically solve sudoku puzzles, hyperparameter optimization ||| score: 0.7607408165931702\n",
      "Q:  What is an example of a GA application? ||| A: optimizing decision trees for better performance, automatically solve sudoku puzzles ||| score: 0.477945014834404\n",
      "\n",
      "================\n",
      "NON-SUMMARY TEXT\n",
      "================\n",
      "\n",
      "Q:  What is the building block hypothesis? ||| A: BBH ||| score: 0.3928694576025009\n",
      "Q:  What has been reported for some classes of problems? ||| A: good results ||| score: 0.9711193144321442\n",
      "Q:  What is skepticism regarding the generality and/or practicality of the building-block hypothesis as an explanation for GAs efficiency? ||| A: still remains ||| score: 0.4861859008669853\n",
      "Q:  From the perspective of estimation of distribution algorithms, understand its limitations from what perspective? ||| A: building-block hypothesis ||| score: 0.14923787862062454\n",
      "Q:  Genetic algorithms are often applied as an approach to solve what? ||| A: global optimization problems ||| score: 0.8928320705890656\n",
      "Q:  What can provide ergodicity of the overall genetic algorithm process? ||| A: Mutation ||| score: 0.7512477338314056\n",
      "Q:  What can be seen as a Markov chain? ||| A: Mutation alone can provide ergodicity of the overall genetic algorithm process ||| score: 0.5757484287023544\n",
      "Q:  How long do genetic algorithms take on nontrivial problems? ||| A: very long time ||| score: 0.6769793629646301\n",
      "Q:  What is an analogy with evolution? ||| A: significant progress require [sic] millions of years ||| score: 0.6107938289642334\n",
      "Q:  How long does significant progress require? ||| A: millions of years ||| score: 0.7856189906597137\n",
      "Q:  What type of annealing is best for your heuristic search voodoo needs? ||| A: simulated ||| score: 0.9165331721305847\n",
      "Q:  What year did Alex Fraser publish a series of papers on simulation of artificial selection of organisms with multiple loci controlling a measurable trait? ||| A: 1957 ||| score: 0.9931770265102386\n",
      "Q:  Computer simulation of evolution by biologists became more common in the early years of what? ||| A: 1960s ||| score: 0.7424228191375732\n",
      "Q:  When did biologists become more common? ||| A: early 1960s ||| score: 0.5824522376060486\n",
      "Q:  Who published a series of papers in the 1960s? ||| A: Hans-Joachim Bremermann ||| score: 0.9416245520114899\n",
      "Q:  What did Hans-Joachim Bremermann publish? ||| A: a series of papers in the 1960s that also adopted a population of solution to optimization problems ||| score: 0.1291828490793705\n",
      "Q:  Hans-Joachim Bremermann published a series of papers in what decade? ||| A: 1960s ||| score: 0.8443979322910309\n",
      "Q:  What did Bremerman's research include? ||| A: the elements of modern genetic algorithms ||| score: 0.6799626052379608\n",
      "Q:  Richard Friedberg, George Friedman, and Michael Conrad are notable early pioneers of what? ||| A: modern genetic algorithms ||| score: 0.06632784754037857\n",
      "Q:  Richard Friedberg, George Friedman, and Michael Conrad. ||| A: early pioneers ||| score: 0.001264191057998687\n",
      "Q:  Fogel reprinted many early papers in what year? ||| A: 1998 ||| score: 0.9594751298427582\n",
      "Q:  What did evolutionary programming originally use for predicting environments? ||| A: finite state machines ||| score: 0.9955473244190216\n",
      "Q:  What did variation and selection do to optimize the predictive logics? ||| A: Evolutionary programming ||| score: 0.21714797616004944\n",
      "Q:  Who wrote Adaptation in Natural and Artificial Systems? ||| A: John Holland ||| score: 0.9731382429599762\n",
      "Q:  In what year was Adaptation in Natural and Artificial Systems published? ||| A: 1975 ||| score: 0.992934376001358\n",
      "Q:  What was the name of the formal framework for predicting the quality of the next generation introduced by Holland? ||| A: Holland's Schema Theorem ||| score: 0.9693865478038788\n",
      "Q:  How did research in GAs remain? ||| A: largely theoretical ||| score: 0.6426965445280075\n",
      "Q:  What is Holland's Schema Theorem? ||| A: formalized framework for predicting the quality of the next generation ||| score: 0.5908822417259216\n",
      "Q:  When was the First International Conference on Genetic Algorithms held? ||| A: mid-1980s ||| score: 0.6013288646936417\n"
     ]
    }
   ],
   "source": [
    "get_question_answers(\"genetic algorithm\")"
   ]
  },
  {
   "cell_type": "code",
   "execution_count": 87,
   "id": "6d6f5cea",
   "metadata": {},
   "outputs": [
    {
     "name": "stdout",
     "output_type": "stream",
     "text": [
      "\n",
      "================\n",
      "  SUMMARY TEXT\n",
      "================\n",
      "\n",
      "Q:  What does it refer to? ||| A: : ||| score: 0.012063443486113101\n",
      "Q:  What is another name for it? ||| A: It may also refer to: ||| score: 0.0030379142554011196\n"
     ]
    }
   ],
   "source": [
    "get_question_answers(\"classification\")"
   ]
  },
  {
   "cell_type": "code",
   "execution_count": 88,
   "id": "02bb84d1",
   "metadata": {
    "scrolled": true
   },
   "outputs": [
    {
     "name": "stdout",
     "output_type": "stream",
     "text": [
      "\n",
      "================\n",
      "  SUMMARY TEXT\n",
      "================\n",
      "\n",
      "Q:  Artificial neural networks tend to be what? ||| A: static and symbolic ||| score: 0.98497074842453\n",
      "Q:  What is the biological brain of most living organisms? ||| A: dynamic (plastic) and analogue ||| score: 0.8937408626079559\n",
      "Q:  Deep learning is concerned with an unbounded number of layers of what size? ||| A: bounded ||| score: 0.7629088163375854\n",
      "Q:  Deep learning permits practical application and optimized implementation under what conditions? ||| A: mild ||| score: 0.7245811820030212\n",
      "Q:  In deep learning layers are permitted to be what? ||| A: heterogeneous ||| score: 0.9868050515651703\n",
      "Q:  To be heterogeneous and to deviate widely from biologically informed connectionist models, for the sake of efficiency, trainability and understandability, what is the \"structured\" part? ||| A: Deep learning ||| score: 0.36595703661441803\n",
      "\n",
      "================\n",
      "NON-SUMMARY TEXT\n",
      "================\n",
      "\n",
      "Q:  What can a deep learning process learn on its own? ||| A: which features to optimally place in which level ||| score: 0.8525896668434143\n",
      "Q:  What does not eliminate the need for hand-tuning? ||| A: a deep learning process can learn which features to optimally place in which level on its own ||| score: 0.46509118378162384\n",
      "Q:  Various numbers of layers and what can provide different degrees of abstraction? ||| A: layer sizes ||| score: 0.13695607334375381\n",
      "Q:  What is the chain of transformations from input to output called? ||| A: CAP ||| score: 0.7621026337146759\n",
      "Q:  What describe potentially causal connections between input and output? ||| A: CAPs ||| score: 0.9924413561820984\n",
      "Q:  For a feedforward neural network, what is the depth of the CAPs? ||| A: that of the network ||| score: 0.7630040347576141\n",
      "Q:  How many hidden layers plus one? ||| A: number ||| score: 0.02704060822725296\n",
      "Q:  What is the CAP depth for recurrent neural networks? ||| A: potentially unlimited ||| score: 0.7057681232690811\n",
      "Q:  How many layers can a signal propagate through a layer multiple times? ||| A: unlimited ||| score: 0.08458741754293442\n",
      "Q:  How deep learning differs from shallow learning? ||| A: No universally agreed-upon threshold of depth ||| score: 0.2987724542617798\n",
      "Q:  What does deep learning involve? ||| A: CAP depth higher than 2 ||| score: 0.8587840795516968\n",
      "Q:  CAP of depth 2 has been shown to be what? ||| A: a universal approximator ||| score: 0.7571941018104553\n",
      "Q:  What does more layers not add to the function approximator ability of the network? ||| A: CAP of depth 2 has been shown to be a universal approximator in the sense that it can emulate any function. Beyond that, more layers do not add to the function approximator ability of the network. Deep models ||| score: 0.017588227055966854\n",
      "Q:  Deep models (CAP > 2) are able to extract better features than what? ||| A: shallow models ||| score: 0.9845839440822601\n",
      "Q:  What are two examples of deep structures that can be trained in an unsupervised manner? ||| A: neural history compressors and deep belief networks ||| score: 0.9672127664089203\n",
      "Q:  What does universal approximation hold for non-bounded activation functions like the rectified linear unit? ||| A: universal ||| score: 0.0531459990888834\n",
      "Q:  If the width of a deep neural network with ReLU activation is strictly larger than the input dimension, then the network can approximate any Lebesgue integrable function. ||| A: proved that if the width of a deep neural network with ReLU activation is strictly larger than the input dimension, then the network can approximate any Lebesgue integrable function; If the width is smaller or equal to the input dimension, then a deep neural network is not a universal approximator ||| score: 0.012293063569813967\n",
      "Q:  What is not a universal approximator? ||| A: deep neural network ||| score: 0.6538759171962738\n",
      "Q:  What does the probabilistic interpretation consider the activation nonlinearity as? ||| A: a cumulative distribution function ||| score: 0.8551572561264038\n",
      "Q:  What led to the introduction of dropout as regularizer in neural networks? ||| A: probabilistic interpretation ||| score: 0.5678679496049881\n",
      "Q:  Who introduced the probabilityistic interpretation? ||| A: Hopfield, Widrow and Narendra ||| score: 0.005553317489102483\n",
      "Q:  What did Kunihiko Fukushima introduce in 1980? ||| A: Neocognitron ||| score: 0.820796936750412\n",
      "Q:  What was the Neocognitron? ||| A: deep learning working architectures ||| score: 0.6201522052288055\n",
      "Q:  How long did it take to train the algorithm? ||| A: 3 days ||| score: 0.9575519263744354\n",
      "Q:  Key difficulties have been analyzed, including what? ||| A: gradient diminishing and weak temporal correlation structure in neural predictive models ||| score: 0.7644780278205872\n",
      "Q:  Other difficulties were the lack of training data and limited computing power? ||| A: gradient diminishing and weak temporal correlation structure in neural predictive models ||| score: 0.04171569272875786\n",
      "Q:  Who funded the SRI? ||| A: NSA and DARPA ||| score: 0.7611788213253021\n",
      "Q:  Who led the speaker recognition team? ||| A: Larry Heck ||| score: 0.9975644648075104\n",
      "Q:  What did Larry Heck report in 1998? ||| A: significant success with deep neural networks in speech processing ||| score: 0.4619184732437134\n",
      "Q:  What did the Institute of Standards and Technology evaluate? ||| A: Speaker Recognition ||| score: 0.7021861374378204\n",
      "Q:  What was the first industrial application of deep learning? ||| A: Nuance Verifier ||| score: 0.8771668970584869\n",
      "Q:  In what year did LSTM start to become competitive with traditional speech recognizers? ||| A: 2003 ||| score: 0.9866991937160492\n",
      "Q:  What was combined with connectionist temporal classification (CTC)? ||| A: LSTM ||| score: 0.9410401284694672\n",
      "Q:  In 2015, how much did Google's speech recognition experience a performance jump? ||| A: 49% ||| score: 0.9943341016769409\n",
      "Q:  What percentage of the respondents were trained in LSTM? ||| A: 49% ||| score: 0.4168694168329239\n",
      "Q:  What did Google Voice Search make available to the public? ||| A: speech recognition ||| score: 0.11228388547897339\n",
      "Q:  What was superseded for ASR by CTC for LSTM? ||| A: Convolutional neural networks ||| score: 0.5993986129760742\n",
      "Q:  What are more successful in computer vision? ||| A: Convolutional neural networks ||| score: 0.7909227013587952\n",
      "Q:  What did the DNNs with large, context-dependent output layers produce? ||| A: error rates dramatically lower ||| score: 0.7382999062538147\n",
      "Q:  What were error rates lower than than the then-state-of-the-art GMM/HMM? ||| A: replacing pre-training with large amounts of training data for straightforward backpropagation when using DNNs with large, context-dependent output layers ||| score: 0.17216164618730545\n",
      "Q:  What did the two types of systems produce that was characteristically different? ||| A: recognition errors ||| score: 0.937615305185318\n",
      "Q:  What did deep learning offer technical insights into? ||| A: how to integrate deep learning into the existing highly efficient, run-time speech decoding system deployed by all major speech recognition systems ||| score: 0.13677194714546204\n",
      "Q:  When was the analysis contrasting? ||| A: around 2009–2010 ||| score: 0.3934070020914078\n",
      "Q:  What was the performance of the GMM model compared to the DNN model? ||| A: less than 1.5% in error rate ||| score: 0.5801672339439392\n",
      "Q:  What did the early industrial investment in deep learning lead to? ||| A: pervasive and dominant use ||| score: 0.7157061845064163\n",
      "Q:  What was the error rate between discriminative DNNs and generative models? ||| A: less than 1.5% ||| score: 0.6921106576919556\n",
      "Q:  What kind of computations are GPUs well suited for? ||| A: matrix/vector ||| score: 0.7626945078372955\n",
      "Q:  What can GPUs speed up training algorithms by? ||| A: orders of magnitude ||| score: 0.9807342886924744\n",
      "Q:  GPUs reduce running times from weeks to what? ||| A: days ||| score: 0.9922324419021606\n",
      "Q:  Dedicated hardware and algorithm optimizations can be used for what kind of models? ||| A: deep learning ||| score: 0.6848224997520447\n",
      "Q:  OpenAI estimated the amount of computation used in the largest deep learning projects from AlexNet (2012) to AlphaZero (2017)? ||| A: 300,000-fold increase ||| score: 0.08772065676748753\n",
      "Q:  OpenAI found a 300,000-fold increase in what? ||| A: the amount of computation required ||| score: 0.7733486890792847\n",
      "Q:  What do developmental models share with the neocortex? ||| A: various proposed learning dynamics in the brain (e.g., a wave of nerve growth factor) support the self-organization ||| score: 0.19821706414222717\n",
      "Q:  What support the self-organization somewhat analogous to? ||| A: neural networks ||| score: 0.4437757730484009\n",
      "Q:  What does each layer consider from a prior layer or the operating environment? ||| A: information ||| score: 0.9903245866298676\n",
      "Q:  What is the result of the hierarchy of layered filters? ||| A: a self-organizing stack of transducers ||| score: 0.6479440629482269\n",
      "Q:  What kind of transducers are well-tuned to their operating environment? ||| A: self-organizing stack ||| score: 0.8733814656734467\n",
      "Q:  A 1995 description stated that the infant's brain seems to organize itself under the influence of what? ||| A: waves of so-called trophic-factors ||| score: 0.8236728012561798\n",
      "Q:  Before another and so on until the whole brain is mature? ||| A: one layer of tissue maturing before another ||| score: 0.4243227243423462\n",
      "Q:  What are two forms of deep learning based on hierarchical generative models and deep belief networks? ||| A: unsupervised ||| score: 0.7205353528261185\n",
      "Q:  What have generative neural network models been related to neurobiological evidence about? ||| A: sampling-based processing in the cerebral cortex ||| score: 0.827689528465271\n",
      "Q:  What are the representations developed by deep learning models similar to? ||| A: those measured in the primate visual system both at the single-unit and at the population levels ||| score: 0.5792076885700226\n",
      "Q:  Google Translate uses a neural network to translate between how many languages? ||| A: more than 100 ||| score: 0.7333177626132965\n",
      "Q:  Deep TAMER used deep learning to provide a robot the ability to learn new tasks through what? ||| A: observation ||| score: 0.990683913230896\n",
      "Q:  A robot learned a task with a human trainer, watching video streams or what else? ||| A: observing a human perform a task in-person ||| score: 0.9490628242492676\n",
      "Q:  The robot later practiced the task with the help of who? ||| A: the trainer ||| score: 0.45566143095493317\n",
      "Q:  What kind of feedback did the robot get from the trainer? ||| A: “good job” and “bad job ||| score: 0.5511382669210434\n"
     ]
    }
   ],
   "source": [
    "get_question_answers(\"deep learning\")"
   ]
  },
  {
   "cell_type": "code",
   "execution_count": 89,
   "id": "9758fc00",
   "metadata": {
    "scrolled": true
   },
   "outputs": [
    {
     "name": "stdout",
     "output_type": "stream",
     "text": [
      "\n",
      "================\n",
      "  SUMMARY TEXT\n",
      "================\n",
      "\n",
      "Q:  What is the analysis step of the \"knowledge discovery in databases\" process? ||| A: Data mining ||| score: 0.9825804233551025\n",
      "Q:  What does KDD involve other than the raw analysis step? ||| A: database and data management aspects ||| score: 0.6369207203388214\n",
      "Q:  What was the original name of Data mining: Practical machine learning tools and techniques with Java? ||| A: Practical machine learning ||| score: 0.8769824802875519\n",
      "Q:  Why was the term data mining added to the book? ||| A: marketing reasons ||| score: 0.7632917165756226\n",
      "Q:  What are the more general terms for large scale data analysis and analytics? ||| A: artificial intelligence and machine learning ||| score: 0.5085797756910324\n",
      "Q:  What are more appropriate when referring to actual methods? ||| A: artificial intelligence and machine learning ||| score: 0.7624173760414124\n",
      "Q:  What can be seen as a kind of summary of the input data? ||| A: patterns ||| score: 0.8256309628486633\n",
      "Q:  Machine learning and predictive analytics are examples of what? ||| A: These patterns ||| score: 0.3527442067861557\n",
      "Q:  What might the data mining step identify multiple groups in? ||| A: the data ||| score: 0.7896385192871094\n",
      "Q:  What can be used to obtain more accurate prediction results by a decision support system? ||| A: the data mining step ||| score: 0.4742238372564316\n",
      "Q:  Data collection, data preparation, and result interpretation and reporting are not part of what step? ||| A: data mining step ||| score: 0.5708035081624985\n",
      "\n",
      "================\n",
      "NON-SUMMARY TEXT\n",
      "================\n",
      "\n",
      "Q:  What does Lovell say the practice masquerades under a variety of aliases? ||| A: experimentation ||| score: 0.16391251236200333\n",
      "Q:  What is a positive word for experimentation? ||| A: experimentation ||| score: 0.6783678829669952\n",
      "Q:  Who coined the term \"knowledge discovery in databases\" for the first workshop on the same topic? ||| A: Gregory Piatetsky-Shapiro ||| score: 0.9845908582210541\n",
      "Q:  What term became more popular in AI and machine learning community? ||| A: knowledge discovery in databases ||| score: 0.662879467010498\n",
      "Q:  What term became more popular in the business and press communities? ||| A: data mining ||| score: 0.9057853817939758\n",
      "Q:  What are the terms data mining and knowledge discovery used interchangeably? ||| A: data mining ||| score: 0.04790874943137169\n",
      "Q:  When did Usama Fayyad launch Data Mining and Knowledge Discovery? ||| A: 1996 ||| score: 0.9662245512008667\n",
      "Q:  What was the name of the journal by Kluwer called? ||| A: Data Mining and Knowledge Discovery ||| score: 0.9235193133354187\n",
      "Q:  Who was the founding editor-in-chief of the Kluwer journal? ||| A: Usama Fayyad ||| score: 0.546513020992279\n",
      "Q:  The KDD International conference became the primary highest quality conference in what field? ||| A: data mining ||| score: 0.987063080072403\n",
      "Q:  What is the acceptance rate of research paper submissions in data mining? ||| A: below 18%. ||| score: 0.5923822522163391\n",
      "Q:  Data Mining and Knowledge Discovery is the primary research journal of what field? ||| A: data mining ||| score: 0.958573967218399\n",
      "Q:  What has dramatically increased data collection, storage, and manipulation ability? ||| A: The proliferation, ubiquity and increasing power of computer technology ||| score: 0.7180367559194565\n",
      "Q:  What has increased as data sets have grown in size and complexity? ||| A: data collection, storage, and manipulation ability ||| score: 0.36182716488838196\n",
      "Q:  How has indirect, automated data processing been augmented? ||| A: aided by other discoveries in computer science ||| score: 0.23649082705378532\n",
      "Q:  In what decade were genetic algorithms first discovered? ||| A: 1950s ||| score: 0.9532785713672638\n",
      "Q:  What decade saw the discovery of decision trees and decision rules? ||| A: 1960s ||| score: 0.9531180262565613\n",
      "Q:  During what decade did support vector machines first appear? ||| A: 1990s ||| score: 0.9432944059371948\n",
      "Q:  What is the purpose of applying these methods? ||| A: uncovering hidden patterns ||| score: 0.6394473612308502\n",
      "Q:  What does it bridge the gap from applied statistics and artificial intelligence? ||| A: Data mining ||| score: 0.8591789603233337\n",
      "Q:  What can be indexed in databases to execute the actual learning and discovery algorithms? ||| A: data ||| score: 0.7307462394237518\n",
      "Q:  How many times as many people reported using CRISP-DM? ||| A: 3–4 ||| score: 0.8089475929737091\n",
      "Q:  What has several teams of researchers published reviews of? ||| A: data mining process models ||| score: 0.9671332836151123\n",
      "Q:  Azevedo and Santos conducted a comparison of what in 2008? ||| A: CRISP-DM and SEMMA ||| score: 0.946826696395874\n",
      "Q:  What was withdrawn without reaching a final draft? ||| A: JDM 2.0 ||| score: 0.9766930937767029\n",
      "Q:  Extensions to cover subspace clustering have been proposed independently of what? ||| A: the DMG ||| score: 0.7692156732082367\n",
      "Q:  Data aggregation involves combining data together in a way that facilitates what? ||| A: analysis ||| score: 0.9953294396400452\n",
      "Q:  What might make identification of private, individual-level data deducible? ||| A: Data aggregation ||| score: 0.8590757846832275\n",
      "Q:  What is a threat to an individual's privacy? ||| A: when the data, once compiled, cause the data miner, or anyone who has access to the newly compiled data set, to be able to identify specific individuals ||| score: 0.36528556793928146\n",
      "Q:  Who can be able to identify specific individuals? ||| A: the data miner ||| score: 0.473890095949173\n",
      "Q:  What is the purpose of the preparation of data? ||| A: analysis ||| score: 0.44808047264814377\n",
      "Q:  To be able to identify specific individuals, especially when the data were originally anonymous? ||| A: the data miner ||| score: 0.6481559723615646\n",
      "Q:  In what year did patrons of Walgreens file a lawsuit against the company for selling prescription information to data mining companies? ||| A: 2011 ||| score: 0.9912062883377075\n"
     ]
    }
   ],
   "source": [
    "get_question_answers(\"data mining\")"
   ]
  },
  {
   "cell_type": "code",
   "execution_count": 184,
   "id": "18d92efd",
   "metadata": {},
   "outputs": [
    {
     "name": "stdout",
     "output_type": "stream",
     "text": [
      "Title: genetic algorithm ||| Section: History\n",
      "---\n",
      "In 1950, Alan Turing proposed a \"learning machine\" which would parallel the principles of evolution. Computer simulation of evolution started as early as in 1954 with the work of Nils Aall Barricelli, who was using the computer at the Institute for Advanced Study in Princeton, New Jersey.\n",
      "---\n",
      "Q:  What year did Alex Fraser publish a series of papers on simulation of artificial selection of organisms with multiple loci controlling a measurable trait? ||| A: 1957 ||| score: 0.9931770265102386\n",
      "Q:  Computer simulation of evolution by biologists became more common in the early years of what? ||| A: 1960s ||| score: 0.7424228191375732\n"
     ]
    }
   ],
   "source": [
    "row = df.sample(n = 1).iloc[0]\n",
    "print(f\"Title: {row['topic']} ||| Section: {row['section']}\")\n",
    "print(\"---\")\n",
    "print(row[\"prefix\"])\n",
    "print(\"---\")\n",
    "for i in range(len(row[\"questions\"])):\n",
    "    if row['scores'][i] < 0.7:\n",
    "        break\n",
    "    print(f\"Q: {row['questions'][i]} ||| A: {row['answers'][i]} ||| score: {row['scores'][i]}\")"
   ]
  }
 ],
 "metadata": {
  "kernelspec": {
   "display_name": "Python 3 (ipykernel)",
   "language": "python",
   "name": "python3"
  },
  "language_info": {
   "codemirror_mode": {
    "name": "ipython",
    "version": 3
   },
   "file_extension": ".py",
   "mimetype": "text/x-python",
   "name": "python",
   "nbconvert_exporter": "python",
   "pygments_lexer": "ipython3",
   "version": "3.9.7"
  }
 },
 "nbformat": 4,
 "nbformat_minor": 5
}
