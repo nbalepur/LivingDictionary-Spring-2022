{
 "cells": [
  {
   "cell_type": "code",
   "execution_count": 1,
   "id": "8b394843",
   "metadata": {},
   "outputs": [],
   "source": [
    "import pandas as pd"
   ]
  },
  {
   "cell_type": "code",
   "execution_count": 2,
   "id": "56a35030",
   "metadata": {},
   "outputs": [],
   "source": [
    "df = pd.read_csv(\"top300.csv\")"
   ]
  },
  {
   "cell_type": "code",
   "execution_count": 3,
   "id": "e93a29d3",
   "metadata": {},
   "outputs": [
    {
     "data": {
      "text/plain": [
       "Index(['title', 'section', 'full_text', 'summ_text', 'questions', 'answers'], dtype='object')"
      ]
     },
     "execution_count": 3,
     "metadata": {},
     "output_type": "execute_result"
    }
   ],
   "source": [
    "df.columns[1:]"
   ]
  },
  {
   "cell_type": "code",
   "execution_count": 4,
   "id": "3c78dbda",
   "metadata": {},
   "outputs": [
    {
     "data": {
      "text/html": [
       "<div>\n",
       "<style scoped>\n",
       "    .dataframe tbody tr th:only-of-type {\n",
       "        vertical-align: middle;\n",
       "    }\n",
       "\n",
       "    .dataframe tbody tr th {\n",
       "        vertical-align: top;\n",
       "    }\n",
       "\n",
       "    .dataframe thead th {\n",
       "        text-align: right;\n",
       "    }\n",
       "</style>\n",
       "<table border=\"1\" class=\"dataframe\">\n",
       "  <thead>\n",
       "    <tr style=\"text-align: right;\">\n",
       "      <th></th>\n",
       "      <th>Unnamed: 0</th>\n",
       "      <th>title</th>\n",
       "      <th>section</th>\n",
       "      <th>full_text</th>\n",
       "      <th>summ_text</th>\n",
       "      <th>questions</th>\n",
       "      <th>answers</th>\n",
       "    </tr>\n",
       "  </thead>\n",
       "  <tbody>\n",
       "    <tr>\n",
       "      <th>0</th>\n",
       "      <td>0</td>\n",
       "      <td>machine learning</td>\n",
       "      <td>Summary</td>\n",
       "      <td>Machine learning (ML) is the study of computer...</td>\n",
       "      <td>Machine learning (ML) is the study of computer...</td>\n",
       "      <td>[' What is the study of computer algorithms th...</td>\n",
       "      <td>['Machine learning (ML)', 'artificial intellig...</td>\n",
       "    </tr>\n",
       "    <tr>\n",
       "      <th>1</th>\n",
       "      <td>1</td>\n",
       "      <td>machine learning</td>\n",
       "      <td>Summary</td>\n",
       "      <td>A subset of machine learning is closely relate...</td>\n",
       "      <td>A subset of machine learning is closely relate...</td>\n",
       "      <td>[' What is a subset of machine learning closel...</td>\n",
       "      <td>['computational statistics', 'computational st...</td>\n",
       "    </tr>\n",
       "    <tr>\n",
       "      <th>2</th>\n",
       "      <td>2</td>\n",
       "      <td>machine learning</td>\n",
       "      <td>Overview</td>\n",
       "      <td>Learning algorithms work on the basis that str...</td>\n",
       "      <td>Learning algorithms work on the basis that str...</td>\n",
       "      <td>[' Learning algorithms work on the basis that ...</td>\n",
       "      <td>['the future', 'every morning', 'tomorrow']</td>\n",
       "    </tr>\n",
       "    <tr>\n",
       "      <th>3</th>\n",
       "      <td>3</td>\n",
       "      <td>machine learning</td>\n",
       "      <td>Overview</td>\n",
       "      <td>Machine learning programs can perform tasks wi...</td>\n",
       "      <td>Machine learning programs can perform tasks wi...</td>\n",
       "      <td>[' What can machine learning programs do witho...</td>\n",
       "      <td>['tasks', 'Machine learning']</td>\n",
       "    </tr>\n",
       "    <tr>\n",
       "      <th>4</th>\n",
       "      <td>4</td>\n",
       "      <td>machine learning</td>\n",
       "      <td>Overview</td>\n",
       "      <td>The discipline of machine learning employs var...</td>\n",
       "      <td>The discipline of machine learning employs var...</td>\n",
       "      <td>[' What discipline uses various approaches to ...</td>\n",
       "      <td>['machine learning', 'machine learning']</td>\n",
       "    </tr>\n",
       "  </tbody>\n",
       "</table>\n",
       "</div>"
      ],
      "text/plain": [
       "   Unnamed: 0             title   section  \\\n",
       "0           0  machine learning   Summary   \n",
       "1           1  machine learning   Summary   \n",
       "2           2  machine learning  Overview   \n",
       "3           3  machine learning  Overview   \n",
       "4           4  machine learning  Overview   \n",
       "\n",
       "                                           full_text  \\\n",
       "0  Machine learning (ML) is the study of computer...   \n",
       "1  A subset of machine learning is closely relate...   \n",
       "2  Learning algorithms work on the basis that str...   \n",
       "3  Machine learning programs can perform tasks wi...   \n",
       "4  The discipline of machine learning employs var...   \n",
       "\n",
       "                                           summ_text  \\\n",
       "0  Machine learning (ML) is the study of computer...   \n",
       "1  A subset of machine learning is closely relate...   \n",
       "2  Learning algorithms work on the basis that str...   \n",
       "3  Machine learning programs can perform tasks wi...   \n",
       "4  The discipline of machine learning employs var...   \n",
       "\n",
       "                                           questions  \\\n",
       "0  [' What is the study of computer algorithms th...   \n",
       "1  [' What is a subset of machine learning closel...   \n",
       "2  [' Learning algorithms work on the basis that ...   \n",
       "3  [' What can machine learning programs do witho...   \n",
       "4  [' What discipline uses various approaches to ...   \n",
       "\n",
       "                                             answers  \n",
       "0  ['Machine learning (ML)', 'artificial intellig...  \n",
       "1  ['computational statistics', 'computational st...  \n",
       "2        ['the future', 'every morning', 'tomorrow']  \n",
       "3                      ['tasks', 'Machine learning']  \n",
       "4           ['machine learning', 'machine learning']  "
      ]
     },
     "execution_count": 4,
     "metadata": {},
     "output_type": "execute_result"
    }
   ],
   "source": [
    "df.head()"
   ]
  },
  {
   "cell_type": "code",
   "execution_count": 5,
   "id": "e838ee73",
   "metadata": {},
   "outputs": [
    {
     "data": {
      "text/plain": [
       "(3523, 7)"
      ]
     },
     "execution_count": 5,
     "metadata": {},
     "output_type": "execute_result"
    }
   ],
   "source": [
    "# 300 keywords produce 3523 rows. That's ~10.5 data entries per keyword\n",
    "df.shape"
   ]
  },
  {
   "cell_type": "code",
   "execution_count": 18,
   "id": "d7fce9cb",
   "metadata": {},
   "outputs": [
    {
     "name": "stdout",
     "output_type": "stream",
     "text": [
      "machine learning\n",
      "\n",
      "Summary\n",
      "\n",
      "Machine learning (ML) is the study of computer algorithms that can improve automatically through experience and by the use of data. It is seen as a part of artificial intelligence. Machine learning algorithms build a model based on sample data, known as training data, in order to make predictions or decisions without being explicitly programmed to do so. Machine learning algorithms are used in a wide variety of applications, such as in medicine, email filtering, speech recognition, and computer vision, where it is difficult or unfeasible to develop conventional algorithms to perform the needed tasks.\n",
      "\n",
      "Machine learning (ML) is the study of computer algorithms that can improve automatically through experience and by the use of data. It is seen as a part of artificial intelligence.\n",
      "\n",
      "[' What is the study of computer algorithms that can improve automatically through experience and by the use of data?', ' Machine learning is seen as what?']\n",
      "\n",
      "['Machine learning (ML)', 'artificial intelligence']\n"
     ]
    }
   ],
   "source": [
    "a = df.loc[0]\n",
    "print(a[\"title\"])\n",
    "print()\n",
    "print(a[\"section\"])\n",
    "print()\n",
    "print(a[\"full_text\"])\n",
    "print()\n",
    "print(a[\"summ_text\"])\n",
    "print()\n",
    "print(a[\"questions\"])\n",
    "print()\n",
    "print(a[\"answers\"])"
   ]
  },
  {
   "cell_type": "code",
   "execution_count": 16,
   "id": "43f944fd",
   "metadata": {},
   "outputs": [
    {
     "data": {
      "text/plain": [
       "Unnamed: 0                                                   10\n",
       "title                                          machine learning\n",
       "section                                                  Theory\n",
       "full_text     For the best performance in the context of gen...\n",
       "summ_text     For the best performance in the context of gen...\n",
       "questions     [' What should the complexity of the hypothesi...\n",
       "answers       ['the complexity of the function underlying th...\n",
       "Name: 10, dtype: object"
      ]
     },
     "execution_count": 16,
     "metadata": {},
     "output_type": "execute_result"
    }
   ],
   "source": [
    "a"
   ]
  },
  {
   "cell_type": "code",
   "execution_count": 13,
   "id": "de37b55f",
   "metadata": {},
   "outputs": [
    {
     "data": {
      "text/plain": [
       "\"[' What is the study of computer algorithms that can improve automatically through experience and by the use of data?', ' Machine learning is seen as what?']\""
      ]
     },
     "execution_count": 13,
     "metadata": {},
     "output_type": "execute_result"
    }
   ],
   "source": []
  },
  {
   "cell_type": "code",
   "execution_count": 14,
   "id": "16cd9875",
   "metadata": {},
   "outputs": [
    {
     "data": {
      "text/plain": [
       "\"['Machine learning (ML)', 'artificial intelligence']\""
      ]
     },
     "execution_count": 14,
     "metadata": {},
     "output_type": "execute_result"
    }
   ],
   "source": [
    "a[\"answers\"]"
   ]
  }
 ],
 "metadata": {
  "kernelspec": {
   "display_name": "Python 3 (ipykernel)",
   "language": "python",
   "name": "python3"
  },
  "language_info": {
   "codemirror_mode": {
    "name": "ipython",
    "version": 3
   },
   "file_extension": ".py",
   "mimetype": "text/x-python",
   "name": "python",
   "nbconvert_exporter": "python",
   "pygments_lexer": "ipython3",
   "version": "3.9.7"
  }
 },
 "nbformat": 4,
 "nbformat_minor": 5
}
