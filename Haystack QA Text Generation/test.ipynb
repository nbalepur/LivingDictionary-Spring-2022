{
 "cells": [
  {
   "cell_type": "code",
   "execution_count": 1,
   "id": "4222389d",
   "metadata": {},
   "outputs": [
    {
     "name": "stderr",
     "output_type": "stream",
     "text": [
      "C:\\Users\\nishu\\Anaconda3\\envs\\haystack\\lib\\site-packages\\ray\\autoscaler\\_private\\cli_logger.py:57: FutureWarning: Not all Ray CLI dependencies were found. In Ray 1.4+, the Ray CLI, autoscaler, and dashboard will only be usable via `pip install 'ray[default]'`. Please update your install command.\n",
      "  warnings.warn(\n"
     ]
    }
   ],
   "source": [
    "from haystack import *\n",
    "from haystack.document_stores import FAISSDocumentStore\n",
    "from haystack.schema import Document\n",
    "from haystack.nodes import DensePassageRetriever, FARMReader\n",
    "from haystack.pipelines import ExtractiveQAPipeline\n",
    "from haystack.utils import print_answers"
   ]
  },
  {
   "cell_type": "code",
   "execution_count": 2,
   "id": "dc8e231e",
   "metadata": {},
   "outputs": [],
   "source": [
    "from bs4 import BeautifulSoup\n",
    "import urllib.request as urllib2\n",
    "from googlesearch import search\n",
    "from bs4.element import Comment\n",
    "import urllib.request"
   ]
  },
  {
   "cell_type": "code",
   "execution_count": 3,
   "id": "0fe04566",
   "metadata": {},
   "outputs": [],
   "source": [
    "def tag_visible(element):\n",
    "    if element.parent.name in ['style', 'script', 'head', 'title', 'meta', '[document]']:\n",
    "        return False\n",
    "    if isinstance(element, Comment):\n",
    "        return False\n",
    "    return True\n",
    "\n",
    "def text_from_html(body):\n",
    "    soup = BeautifulSoup(body, 'html.parser')\n",
    "    texts = soup.findAll(text=True)\n",
    "    visible_texts = filter(tag_visible, texts)  \n",
    "    return u\" \".join(t.strip() for t in visible_texts)\n",
    "\n",
    "def create_documents(urls):\n",
    "    \n",
    "    documents = []\n",
    "\n",
    "    for j, url in enumerate(urls):        \n",
    "        try:\n",
    "            html = urllib.request.urlopen(url).read()\n",
    "            soup = BeautifulSoup(html, 'html.parser')\n",
    "            texts = soup.findAll(text=True)\n",
    "            visible_texts = filter(tag_visible, texts)  \n",
    "            text = u\" \".join(t.strip() for t in visible_texts)\n",
    "            documents.append(Document(content = text, meta = {\"vector_id\" : j}))\n",
    "        except:\n",
    "            \"crap\"\n",
    "        \n",
    "    return documents\n",
    "\n",
    "def create_docs(directory):\n",
    "    import os\n",
    "    \n",
    "    docs = []\n",
    "\n",
    "    document_names = os.listdir(f\"./{directory}\")\n",
    "    for doc in document_names:\n",
    "        text = open(f\"{directory}/{doc}\",  encoding = 'utf8').read()\n",
    "        docs.append(Document(content = text))\n",
    "        \n",
    "    return docs"
   ]
  },
  {
   "cell_type": "code",
   "execution_count": 4,
   "id": "a7f01c4e",
   "metadata": {},
   "outputs": [],
   "source": [
    "query = \"What is machine learning?\"\n",
    "urls = [url for url in search(query, tld = \"co.in\", num = 50, stop = 40, pause = 0.5)]   \n",
    "urls = [url for url in urls if \"html\" not in url and \"wikipedia\" not in url]"
   ]
  },
  {
   "cell_type": "code",
   "execution_count": 5,
   "id": "bb8315fa",
   "metadata": {},
   "outputs": [
    {
     "name": "stdout",
     "output_type": "stream",
     "text": [
      "https://www.ibm.com/cloud/learn/machine-learning\n",
      "https://www.ibm.com/za-en/cloud/learn/machine-learning\n",
      "https://www.ibm.com/se-en/cloud/learn/machine-learning\n",
      "https://www.ibm.com/hk-en/cloud/learn/machine-learning\n",
      "https://www.ibm.com/cloud/blog/ai-vs-machine-learning-vs-deep-learning-vs-neural-networks\n",
      "https://www.britannica.com/technology/machine-learning\n",
      "https://www.expert.ai/blog/machine-learning-definition/\n",
      "https://www.forbes.com/sites/ryancraig/2022/01/21/what-learning-can-learn-from-machine-learning/\n",
      "https://news.mit.edu/2022/test-machine-learning-models-work-0118\n",
      "https://scitechdaily.com/physics-based-engineering-and-the-machine-learning-black-box-problem/\n",
      "https://mitsloan.mit.edu/ideas-made-to-matter/machine-learning-explained\n",
      "https://www.coursera.org/lecture/machine-learning/what-is-machine-learning-Ujm7v\n",
      "https://royalsociety.org/topics-policy/projects/machine-learning/videos-and-background-information/\n",
      "https://www.geeksforgeeks.org/machine-learning/\n",
      "https://www.techtarget.com/searchenterpriseai/definition/machine-learning-ML\n",
      "https://www.technologyreview.com/2018/11/17/103781/what-is-machine-learning-we-drew-you-another-flowchart/\n",
      "https://www.oracle.com/data-science/machine-learning/what-is-machine-learning/\n",
      "https://www.zdnet.com/article/what-is-machine-learning-everything-you-need-to-know/\n",
      "https://www.investopedia.com/terms/m/machine-learning.asp\n",
      "https://www.mygreatlearning.com/blog/what-is-machine-learning/\n",
      "https://www.scientificamerican.com/video/what-is-machine-learning-and-how-does-it-work-heres-a-short-video-primer/\n",
      "https://emerj.com/ai-glossary-terms/what-is-machine-learning/\n",
      "https://azure.microsoft.com/en-us/overview/what-is-machine-learning-platform/\n",
      "https://levity.ai/blog/difference-machine-learning-deep-learning\n",
      "https://www.howtogeek.com/739430/what-is-machine-learning/\n",
      "https://enterprisersproject.com/article/2019/7/machine-learning-explained-plain-english\n",
      "https://www.youtube.com/watch?v=ukzFI9rgwfU\n",
      "https://ischoolonline.berkeley.edu/blog/what-is-machine-learning/\n",
      "https://www.simplilearn.com/tutorials/machine-learning-tutorial/what-is-machine-learning\n",
      "https://builtin.com/machine-learning\n",
      "https://scitechdaily.com/science-made-simple-what-is-machine-learning/\n"
     ]
    }
   ],
   "source": [
    "docs = create_documents(urls)"
   ]
  },
  {
   "cell_type": "code",
   "execution_count": 6,
   "id": "5820c904",
   "metadata": {},
   "outputs": [],
   "source": [
    "document_store = FAISSDocumentStore(vector_dim=128, faiss_index_factory_str=\"Flat\")\n",
    "document_store.delete_documents()\n",
    "document_store.write_documents(docs)"
   ]
  },
  {
   "cell_type": "code",
   "execution_count": 7,
   "id": "9f6c6dbe",
   "metadata": {},
   "outputs": [
    {
     "name": "stderr",
     "output_type": "stream",
     "text": [
      "Some weights of RetriBertModel were not initialized from the model checkpoint at yjernite/retribert-base-uncased and are newly initialized: ['bert_query.embeddings.position_ids']\n",
      "You should probably TRAIN this model on a down-stream task to be able to use it for predictions and inference.\n",
      "Documents Processed: 10000 docs [00:22, 434.95 docs/s]                                                                 \n"
     ]
    }
   ],
   "source": [
    "from haystack.retriever.dense import EmbeddingRetriever\n",
    "\n",
    "retriever = EmbeddingRetriever(document_store=document_store,\n",
    "                               embedding_model=\"yjernite/retribert-base-uncased\",\n",
    "                               model_format=\"retribert\")\n",
    "\n",
    "document_store.update_embeddings(retriever)"
   ]
  },
  {
   "cell_type": "code",
   "execution_count": 9,
   "id": "92d40948",
   "metadata": {},
   "outputs": [
    {
     "name": "stderr",
     "output_type": "stream",
     "text": [
      "Object 'GenerativeQAPipeline' is imported through a deprecated path. Please check out the docs for the new import path.\n"
     ]
    }
   ],
   "source": [
    "from haystack.generator.transformers import Seq2SeqGenerator\n",
    "from haystack.pipeline import GenerativeQAPipeline\n",
    "\n",
    "generator = Seq2SeqGenerator(model_name_or_path=\"yjernite/bart_eli5\", min_length = 100)\n",
    "pipe = GenerativeQAPipeline(generator, retriever)"
   ]
  },
  {
   "cell_type": "code",
   "execution_count": 14,
   "id": "298307d6",
   "metadata": {},
   "outputs": [],
   "source": [
    "ret = pipe.run(query = \"What is the origin of machine learning?\")"
   ]
  },
  {
   "cell_type": "code",
   "execution_count": 15,
   "id": "6435b44f",
   "metadata": {},
   "outputs": [
    {
     "data": {
      "text/plain": [
       "[' Machine learning is the process by which a computer can learn from experience. It\\'s not the origin of machine learning, it\\'s just the process of learning how to learn. There\\'s no \"origin\" for machine learning in the sense that we don\\'t know where it came from. Machine learning has been around for a long time, we just haven\\'t figured out how to use it to improve our lives. The origin of the term \"machine learning\" is a bit of a misnomer. It doesn\\'t mean that a computer is learning to do something, it just means that it is learning what to do.']"
      ]
     },
     "execution_count": 15,
     "metadata": {},
     "output_type": "execute_result"
    }
   ],
   "source": [
    "ret[\"answers\"]"
   ]
  }
 ],
 "metadata": {
  "kernelspec": {
   "display_name": "Python 3 (ipykernel)",
   "language": "python",
   "name": "python3"
  },
  "language_info": {
   "codemirror_mode": {
    "name": "ipython",
    "version": 3
   },
   "file_extension": ".py",
   "mimetype": "text/x-python",
   "name": "python",
   "nbconvert_exporter": "python",
   "pygments_lexer": "ipython3",
   "version": "3.9.7"
  }
 },
 "nbformat": 4,
 "nbformat_minor": 5
}
