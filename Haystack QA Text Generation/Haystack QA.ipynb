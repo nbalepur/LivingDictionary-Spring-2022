{
 "cells": [
  {
   "cell_type": "code",
   "execution_count": 1,
   "id": "4222389d",
   "metadata": {},
   "outputs": [
    {
     "name": "stderr",
     "output_type": "stream",
     "text": [
      "C:\\Users\\nishu\\Anaconda3\\envs\\haystack\\lib\\site-packages\\ray\\autoscaler\\_private\\cli_logger.py:57: FutureWarning: Not all Ray CLI dependencies were found. In Ray 1.4+, the Ray CLI, autoscaler, and dashboard will only be usable via `pip install 'ray[default]'`. Please update your install command.\n",
      "  warnings.warn(\n"
     ]
    }
   ],
   "source": [
    "from haystack import *\n",
    "from haystack.document_stores import FAISSDocumentStore\n",
    "from haystack.schema import Document\n",
    "from haystack.nodes import DensePassageRetriever, FARMReader\n",
    "from haystack.pipelines import ExtractiveQAPipeline\n",
    "from haystack.utils import print_answers"
   ]
  },
  {
   "cell_type": "code",
   "execution_count": 2,
   "id": "dc8e231e",
   "metadata": {},
   "outputs": [],
   "source": [
    "from bs4 import BeautifulSoup\n",
    "import urllib.request as urllib2\n",
    "from googlesearch import search\n",
    "from bs4.element import Comment\n",
    "import urllib.request"
   ]
  },
  {
   "cell_type": "code",
   "execution_count": 4,
   "id": "0fe04566",
   "metadata": {},
   "outputs": [],
   "source": [
    "def create_documents(urls):\n",
    "    \n",
    "    documents = []\n",
    "\n",
    "    for j, url in enumerate(urls):        \n",
    "        try:\n",
    "            hdr = {'User-Agent': 'Mozilla/5.0'}\n",
    "            req = urllib2.Request(url, headers = hdr)\n",
    "            page = urllib2.urlopen(req)\n",
    "            soup = BeautifulSoup(page, \"html.parser\")\n",
    "            \n",
    "            for i, paragraph in enumerate(soup.findAll(\"p\")):\n",
    "                p = paragraph.text.split()\n",
    "                if len(p) == 0:\n",
    "                    continue\n",
    "                documents.append(Document(content = \" \".join(p)))   \n",
    "        except:\n",
    "            \"crap\"\n",
    "        \n",
    "    return documents\n",
    "\n",
    "def create_docs(directory):\n",
    "    import os\n",
    "    \n",
    "    docs = []\n",
    "\n",
    "    document_names = os.listdir(f\"./{directory}\")\n",
    "    for doc in document_names:\n",
    "        text = open(f\"{directory}/{doc}\",  encoding = 'utf8').read()\n",
    "        docs.append(Document(content = text))\n",
    "        \n",
    "    return docs"
   ]
  },
  {
   "cell_type": "code",
   "execution_count": 6,
   "id": "a7f01c4e",
   "metadata": {},
   "outputs": [],
   "source": [
    "query = \"What is the history of machine learning?\"\n",
    "urls = [url for url in search(query, tld = \"co.in\", num = 50, stop = 40, pause = 0.5)]   \n",
    "urls = [url for url in urls if \"html\" not in url and \"wikipedia\" not in url]"
   ]
  },
  {
   "cell_type": "code",
   "execution_count": 7,
   "id": "bb8315fa",
   "metadata": {},
   "outputs": [],
   "source": [
    "docs = create_documents(urls)"
   ]
  },
  {
   "cell_type": "code",
   "execution_count": 8,
   "id": "5820c904",
   "metadata": {},
   "outputs": [],
   "source": [
    "document_store = FAISSDocumentStore(vector_dim=128, faiss_index_factory_str=\"Flat\")\n",
    "document_store.delete_documents()\n",
    "document_store.write_documents(docs)"
   ]
  },
  {
   "cell_type": "code",
   "execution_count": null,
   "id": "9f6c6dbe",
   "metadata": {},
   "outputs": [
    {
     "name": "stderr",
     "output_type": "stream",
     "text": [
      "Some weights of RetriBertModel were not initialized from the model checkpoint at yjernite/retribert-base-uncased and are newly initialized: ['bert_query.embeddings.position_ids']\n",
      "You should probably TRAIN this model on a down-stream task to be able to use it for predictions and inference.\n",
      "Updating Embedding:   0%|                                                                  | 0/1617 [00:00<?, ? docs/s]"
     ]
    },
    {
     "data": {
      "application/vnd.jupyter.widget-view+json": {
       "model_id": "1ca2692c31f04309a635c56596de79c7",
       "version_major": 2,
       "version_minor": 0
      },
      "text/plain": [
       "Creating Embeddings:   0%|          | 0/51 [00:00<?, ? Batches/s]"
      ]
     },
     "metadata": {},
     "output_type": "display_data"
    }
   ],
   "source": [
    "from haystack.retriever.dense import EmbeddingRetriever\n",
    "\n",
    "retriever = EmbeddingRetriever(document_store=document_store,\n",
    "                               embedding_model=\"yjernite/retribert-base-uncased\",\n",
    "                               model_format=\"retribert\")\n",
    "\n",
    "document_store.update_embeddings(retriever)"
   ]
  },
  {
   "cell_type": "code",
   "execution_count": null,
   "id": "92d40948",
   "metadata": {},
   "outputs": [],
   "source": [
    "from haystack.generator.transformers import Seq2SeqGenerator\n",
    "from haystack.pipeline import GenerativeQAPipeline\n",
    "\n",
    "generator = Seq2SeqGenerator(model_name_or_path=\"yjernite/bart_eli5\", min_length = 100)\n",
    "pipe = GenerativeQAPipeline(generator, retriever)"
   ]
  },
  {
   "cell_type": "code",
   "execution_count": null,
   "id": "298307d6",
   "metadata": {},
   "outputs": [],
   "source": [
    "ret = pipe.run(query = query)"
   ]
  },
  {
   "cell_type": "code",
   "execution_count": null,
   "id": "6435b44f",
   "metadata": {},
   "outputs": [],
   "source": [
    "ret[\"answers\"]"
   ]
  }
 ],
 "metadata": {
  "kernelspec": {
   "display_name": "Python 3 (ipykernel)",
   "language": "python",
   "name": "python3"
  },
  "language_info": {
   "codemirror_mode": {
    "name": "ipython",
    "version": 3
   },
   "file_extension": ".py",
   "mimetype": "text/x-python",
   "name": "python",
   "nbconvert_exporter": "python",
   "pygments_lexer": "ipython3",
   "version": "3.9.7"
  }
 },
 "nbformat": 4,
 "nbformat_minor": 5
}
