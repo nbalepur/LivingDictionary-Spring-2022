{
 "cells": [
  {
   "cell_type": "code",
   "execution_count": 1,
   "id": "aaae41d5",
   "metadata": {},
   "outputs": [],
   "source": [
    "import pandas as pd\n",
    "import numpy as np\n",
    "import nltk\n",
    "from nltk.tokenize import word_tokenize\n",
    "from nltk import pos_tag\n",
    "from nltk.corpus import stopwords\n",
    "from nltk.stem import WordNetLemmatizer\n",
    "from sklearn.preprocessing import LabelEncoder\n",
    "from collections import defaultdict\n",
    "from nltk.corpus import wordnet as wn\n",
    "from sklearn.feature_extraction.text import TfidfVectorizer\n",
    "from sklearn import model_selection, svm\n",
    "from sklearn.metrics import accuracy_score\n",
    "import re\n",
    "import fasttext\n",
    "from sklearn.model_selection import train_test_split\n",
    "from sklearn.metrics import confusion_matrix\n",
    "from IPython.display import display, HTML\n",
    "import seaborn as sns\n",
    "import urllib.request as urllib2\n",
    "from bs4 import BeautifulSoup"
   ]
  },
  {
   "cell_type": "markdown",
   "id": "34863a9a",
   "metadata": {},
   "source": [
    "## Data Cleaning"
   ]
  },
  {
   "cell_type": "code",
   "execution_count": 2,
   "id": "24cf9544",
   "metadata": {},
   "outputs": [],
   "source": [
    "data = pd.read_csv(\"people_ask.csv\")"
   ]
  },
  {
   "cell_type": "code",
   "execution_count": 3,
   "id": "f65d44f9",
   "metadata": {},
   "outputs": [],
   "source": [
    "# train/valid/test = 0.8/0.1/0.1\n",
    "\n",
    "def clean_text(text):\n",
    "    cleaned_text = re.sub(r'[^A-Za-z0-9 ]+', '', text)\n",
    "    return cleaned_text.lower()\n",
    "    \n",
    "def clean_instances(data):\n",
    "    instances = data[\"sentence\"]\n",
    "    labels = data[\"is_instance\"]\n",
    "    \n",
    "    labels = [\"instance\" if l else \"not_instance\" for l in labels]\n",
    "    \n",
    "    cleaned_instances = [clean_text(inst) for inst in instances]\n",
    "    \n",
    "    df_new = pd.DataFrame(columns = data.columns)\n",
    "    df_new[data.columns] = data[data.columns]\n",
    "    df_new[\"sentence\"] = cleaned_instances\n",
    "    \n",
    "    df_new[\"is_instance\"] = labels\n",
    "    \n",
    "    return df_new\n",
    "\n",
    "\n",
    "data_clean = clean_instances(data)\n",
    "\n",
    "train_text, truth_text, train_labels, truth_labels = train_test_split(data_clean[\"sentence\"], data_clean[\"is_instance\"], test_size = 0.1, shuffle = True)\n",
    "train_text, test_text, train_labels, test_labels = train_test_split(train_text, train_labels, test_size = 1/9, shuffle = True)\n",
    "\n",
    "train_text, test_text, truth_text = train_text.to_numpy(), test_text.to_numpy(), truth_text.to_numpy()\n",
    "train_labels, test_labels, truth_labels = train_labels.to_numpy(), test_labels.to_numpy(), truth_labels.to_numpy()"
   ]
  },
  {
   "cell_type": "code",
   "execution_count": 4,
   "id": "c0d004ff",
   "metadata": {},
   "outputs": [],
   "source": [
    "fasttext_data_train = [f\"__label__{train_labels[i]} {train_text[i]}\" for i in range(len(train_labels))]\n",
    "fasttext_data_test = [f\"__label__{test_labels[i]} {test_text[i]}\" for i in range(len(test_labels))]\n",
    "fasttext_data_truth = [f\"__label__{truth_labels[i]} {truth_text[i]}\" for i in range(len(truth_labels))]\n",
    "\n",
    "train_file = open(\"model.train\", \"w+\")\n",
    "test_file = open(\"model.valid\", \"w+\")\n",
    "truth_file = open(\"model.truth\", \"w+\")\n",
    "\n",
    "train_file.write(\"\\n\".join(fasttext_data_train))\n",
    "test_file.write(\"\\n\".join(fasttext_data_test))\n",
    "truth_file.write(\"\\n\".join(fasttext_data_truth))\n",
    "\n",
    "train_file.close()\n",
    "test_file.close()\n",
    "truth_file.close()"
   ]
  },
  {
   "cell_type": "markdown",
   "id": "23263570",
   "metadata": {},
   "source": [
    "## Parameter Selection"
   ]
  },
  {
   "cell_type": "code",
   "execution_count": 5,
   "id": "a21e7315",
   "metadata": {},
   "outputs": [],
   "source": [
    "cv_data = []\n",
    "\n",
    "for lr in np.arange(0, 1, 0.05):\n",
    "    row = []\n",
    "    for epochs in range(5, 35, 5):\n",
    "        model_cv = fasttext.train_supervised(input = \"model.train\", lr = lr, epoch = epochs)\n",
    "        p = model_cv.test(\"model.valid\")[1]\n",
    "        row.append(p)\n",
    "    cv_data.append(row)"
   ]
  },
  {
   "cell_type": "code",
   "execution_count": 6,
   "id": "8c8f22d0",
   "metadata": {},
   "outputs": [
    {
     "data": {
      "text/plain": [
       "<AxesSubplot:>"
      ]
     },
     "execution_count": 6,
     "metadata": {},
     "output_type": "execute_result"
    },
    {
     "data": {
      "image/png": "[encoded data removed]",
      "text/plain": [
       "<Figure size 432x288 with 2 Axes>"
      ]
     },
     "metadata": {
      "needs_background": "light"
     },
     "output_type": "display_data"
    }
   ],
   "source": [
    "sns.heatmap(cv_data, vmin = np.min(cv_data), vmax = 1, xticklabels = np.arange(5, 35, 5), yticklabels = np.arange(0, 1, 0.05).round(3))"
   ]
  },
  {
   "cell_type": "code",
   "execution_count": 7,
   "id": "b52b2410",
   "metadata": {},
   "outputs": [
    {
     "name": "stdout",
     "output_type": "stream",
     "text": [
      "Best Learning Rate: 0.4\n",
      "Best Number of Epochs: 20\n",
      "Max Precision/Recall: 0.8571428571428571\n"
     ]
    }
   ],
   "source": [
    "max_idx = np.unravel_index(np.array(cv_data).argmax(), np.array(cv_data).shape)\n",
    "best_learning_rate = np.arange(0, 1, 0.05)[max_idx[0]]\n",
    "best_epochs = np.arange(5, 35, 5)[max_idx[1]]\n",
    "max_p = cv_data[max_idx[0]][max_idx[1]]\n",
    "\n",
    "print(f\"Best Learning Rate: {best_learning_rate}\\nBest Number of Epochs: {best_epochs}\\nMax Precision/Recall: {max_p}\")"
   ]
  },
  {
   "cell_type": "code",
   "execution_count": 8,
   "id": "0db2ab98",
   "metadata": {},
   "outputs": [],
   "source": [
    "def create_confusion_mat(text, labels, m):\n",
    "    \n",
    "    df = pd.DataFrame(confusion_matrix([str(l) for l in labels], [m.predict(t)[0][0][len(\"__label__\"):] for t in text]), index = [\"Actual Not Instance\", \"Actual Instance\"])\n",
    "    df.columns = [\"Predicted Not Instance\", \"Predicted Instance\"]\n",
    "                  \n",
    "    return df\n",
    "\n",
    "def print_precision_recall(filename, m):\n",
    "    n, p, r = m.test(filename)\n",
    "    print(f\"Results for {filename}\\nPrecision: {p} | Recall: {p}\\n\\n\")"
   ]
  },
  {
   "cell_type": "markdown",
   "id": "bf30e855",
   "metadata": {},
   "source": [
    "## Analyzing Results"
   ]
  },
  {
   "cell_type": "code",
   "execution_count": 9,
   "id": "37c6b3d0",
   "metadata": {},
   "outputs": [],
   "source": [
    "model_cv = fasttext.train_supervised(input = \"model.train\", lr = best_learning_rate, epoch = best_epochs)"
   ]
  },
  {
   "cell_type": "code",
   "execution_count": 10,
   "id": "a7f1c8cf",
   "metadata": {},
   "outputs": [
    {
     "name": "stdout",
     "output_type": "stream",
     "text": [
      "Results for model.train\n",
      "Precision: 1.0 | Recall: 1.0\n",
      "\n",
      "\n",
      "Results for model.valid\n",
      "Precision: 0.8428571428571429 | Recall: 0.8428571428571429\n",
      "\n",
      "\n",
      "Results for model.truth\n",
      "Precision: 0.8714285714285714 | Recall: 0.8714285714285714\n",
      "\n",
      "\n"
     ]
    }
   ],
   "source": [
    "for fn in [\"model.train\", \"model.valid\", \"model.truth\"]:\n",
    "    print_precision_recall(fn, model_cv)"
   ]
  },
  {
   "cell_type": "code",
   "execution_count": 11,
   "id": "e8827bfd",
   "metadata": {},
   "outputs": [
    {
     "data": {
      "text/html": [
       "<b>Training Data Confusion Matrix</b>"
      ],
      "text/plain": [
       "<IPython.core.display.HTML object>"
      ]
     },
     "metadata": {},
     "output_type": "display_data"
    },
    {
     "data": {
      "text/html": [
       "<div>\n",
       "<style scoped>\n",
       "    .dataframe tbody tr th:only-of-type {\n",
       "        vertical-align: middle;\n",
       "    }\n",
       "\n",
       "    .dataframe tbody tr th {\n",
       "        vertical-align: top;\n",
       "    }\n",
       "\n",
       "    .dataframe thead th {\n",
       "        text-align: right;\n",
       "    }\n",
       "</style>\n",
       "<table border=\"1\" class=\"dataframe\">\n",
       "  <thead>\n",
       "    <tr style=\"text-align: right;\">\n",
       "      <th></th>\n",
       "      <th>Predicted Not Instance</th>\n",
       "      <th>Predicted Instance</th>\n",
       "    </tr>\n",
       "  </thead>\n",
       "  <tbody>\n",
       "    <tr>\n",
       "      <th>Actual Not Instance</th>\n",
       "      <td>154</td>\n",
       "      <td>0</td>\n",
       "    </tr>\n",
       "    <tr>\n",
       "      <th>Actual Instance</th>\n",
       "      <td>0</td>\n",
       "      <td>399</td>\n",
       "    </tr>\n",
       "  </tbody>\n",
       "</table>\n",
       "</div>"
      ],
      "text/plain": [
       "                     Predicted Not Instance  Predicted Instance\n",
       "Actual Not Instance                     154                   0\n",
       "Actual Instance                           0                 399"
      ]
     },
     "execution_count": 11,
     "metadata": {},
     "output_type": "execute_result"
    }
   ],
   "source": [
    "display(HTML('<b>Training Data Confusion Matrix</b>'))\n",
    "create_confusion_mat(train_text, train_labels, model_cv)"
   ]
  },
  {
   "cell_type": "code",
   "execution_count": 12,
   "id": "e62477a2",
   "metadata": {},
   "outputs": [
    {
     "data": {
      "text/html": [
       "<b>Validation Data Confusion Matrix</b>"
      ],
      "text/plain": [
       "<IPython.core.display.HTML object>"
      ]
     },
     "metadata": {},
     "output_type": "display_data"
    },
    {
     "data": {
      "text/html": [
       "<div>\n",
       "<style scoped>\n",
       "    .dataframe tbody tr th:only-of-type {\n",
       "        vertical-align: middle;\n",
       "    }\n",
       "\n",
       "    .dataframe tbody tr th {\n",
       "        vertical-align: top;\n",
       "    }\n",
       "\n",
       "    .dataframe thead th {\n",
       "        text-align: right;\n",
       "    }\n",
       "</style>\n",
       "<table border=\"1\" class=\"dataframe\">\n",
       "  <thead>\n",
       "    <tr style=\"text-align: right;\">\n",
       "      <th></th>\n",
       "      <th>Predicted Not Instance</th>\n",
       "      <th>Predicted Instance</th>\n",
       "    </tr>\n",
       "  </thead>\n",
       "  <tbody>\n",
       "    <tr>\n",
       "      <th>Actual Not Instance</th>\n",
       "      <td>19</td>\n",
       "      <td>9</td>\n",
       "    </tr>\n",
       "    <tr>\n",
       "      <th>Actual Instance</th>\n",
       "      <td>2</td>\n",
       "      <td>40</td>\n",
       "    </tr>\n",
       "  </tbody>\n",
       "</table>\n",
       "</div>"
      ],
      "text/plain": [
       "                     Predicted Not Instance  Predicted Instance\n",
       "Actual Not Instance                      19                   9\n",
       "Actual Instance                           2                  40"
      ]
     },
     "execution_count": 12,
     "metadata": {},
     "output_type": "execute_result"
    }
   ],
   "source": [
    "display(HTML('<b>Validation Data Confusion Matrix</b>'))\n",
    "create_confusion_mat(test_text, test_labels, model_cv)"
   ]
  },
  {
   "cell_type": "code",
   "execution_count": 13,
   "id": "0852ebd3",
   "metadata": {},
   "outputs": [
    {
     "data": {
      "text/html": [
       "<b>Testing Data Confusion Matrix</b>"
      ],
      "text/plain": [
       "<IPython.core.display.HTML object>"
      ]
     },
     "metadata": {},
     "output_type": "display_data"
    },
    {
     "data": {
      "text/html": [
       "<div>\n",
       "<style scoped>\n",
       "    .dataframe tbody tr th:only-of-type {\n",
       "        vertical-align: middle;\n",
       "    }\n",
       "\n",
       "    .dataframe tbody tr th {\n",
       "        vertical-align: top;\n",
       "    }\n",
       "\n",
       "    .dataframe thead th {\n",
       "        text-align: right;\n",
       "    }\n",
       "</style>\n",
       "<table border=\"1\" class=\"dataframe\">\n",
       "  <thead>\n",
       "    <tr style=\"text-align: right;\">\n",
       "      <th></th>\n",
       "      <th>Predicted Not Instance</th>\n",
       "      <th>Predicted Instance</th>\n",
       "    </tr>\n",
       "  </thead>\n",
       "  <tbody>\n",
       "    <tr>\n",
       "      <th>Actual Not Instance</th>\n",
       "      <td>11</td>\n",
       "      <td>7</td>\n",
       "    </tr>\n",
       "    <tr>\n",
       "      <th>Actual Instance</th>\n",
       "      <td>2</td>\n",
       "      <td>50</td>\n",
       "    </tr>\n",
       "  </tbody>\n",
       "</table>\n",
       "</div>"
      ],
      "text/plain": [
       "                     Predicted Not Instance  Predicted Instance\n",
       "Actual Not Instance                      11                   7\n",
       "Actual Instance                           2                  50"
      ]
     },
     "execution_count": 13,
     "metadata": {},
     "output_type": "execute_result"
    }
   ],
   "source": [
    "display(HTML('<b>Testing Data Confusion Matrix</b>'))\n",
    "create_confusion_mat(truth_text, truth_labels, model_cv)"
   ]
  },
  {
   "cell_type": "markdown",
   "id": "d433e606",
   "metadata": {},
   "source": [
    "## Predicting on the Web"
   ]
  },
  {
   "cell_type": "code",
   "execution_count": 27,
   "id": "203a254a",
   "metadata": {},
   "outputs": [],
   "source": [
    "def answer(url, tol):\n",
    "    \n",
    "    hdr = {'User-Agent': 'Mozilla/5.0'}\n",
    "    req = urllib2.Request(url, headers = hdr)\n",
    "    page = urllib2.urlopen(req)\n",
    "    soup = BeautifulSoup(page, \"html.parser\")\n",
    "    \n",
    "    paragraphs_web = soup.findAll(\"p\")\n",
    "    paragraphs_web = [p.text for p in paragraphs_web]\n",
    "    \n",
    "    response = []\n",
    "\n",
    "    for p in paragraphs_web:\n",
    "        sentences = [s for s in nltk.sent_tokenize(p)]\n",
    "        sentences_cleaned = [clean_text(s) for s in sentences]\n",
    "\n",
    "        pred = [(model_cv.predict(s)[0][0][len(\"__label__\"):] == 'instance', model_cv.predict(s)[1][0]) for s in sentences_cleaned]\n",
    "        labels = [\"I\" if label and score > tol else \"N\" for label, score in pred]\n",
    "        \n",
    "        chunks = []\n",
    "        for i in range(len(sentences)):\n",
    "            if labels[i] == \"I\":\n",
    "                chunks.append(sentences[i])\n",
    "        \n",
    "        if len(chunks) > 0:\n",
    "            chunk_text = [c for c in chunks]\n",
    "            response.append(\" \".join(chunk_text))\n",
    "    \n",
    "        \n",
    "    return \"\\n\".join(response)"
   ]
  },
  {
   "cell_type": "code",
   "execution_count": 28,
   "id": "77a2d421",
   "metadata": {},
   "outputs": [
    {
     "name": "stdout",
     "output_type": "stream",
     "text": [
      "Until the late 1970s, it was a part of AI’s evolution.\n",
      "The model was created in 1949 by Donald Hebb in a book titled The Organization of Behavior (PDF).\n",
      "Arthur Samuel of IBM developed a computer program for playing checkers in the 1950s.\n",
      "Arthur Samuel first came up with the phrase “machine learning” in 1952.\n",
      "Described as the first successful neuro-computer, the Mark I perceptron developed some problems with broken expectations.\n",
      "In 1967, the nearest neighbor algorithm was conceived, which was the beginning of basic pattern recognition.\n",
      "Additionally, neural network research was abandoned by computer science and AI researchers.\n",
      "The concept of boosting was first presented in a 1990 paper titled “The Strength of Weak Learnability,” by Robert Schapire.\n"
     ]
    }
   ],
   "source": [
    "print(answer(\"https://www.dataversity.net/a-brief-history-of-machine-learning/\", 0.98))"
   ]
  },
  {
   "cell_type": "code",
   "execution_count": 29,
   "id": "e9272d36",
   "metadata": {},
   "outputs": [
    {
     "name": "stdout",
     "output_type": "stream",
     "text": [
      "1950 — Alan Turing creates the “Turing Test” to determine if a computer has real intelligence.\n",
      "1952 — Arthur Samuel wrote the first computer learning program. The program was the game of checkers, and the \n",
      " \n",
      "IBM\n",
      " computer improved at the game the more it played, studying which moves made up winning strategies and incorporating those moves into its program.\n",
      "1957 — Frank Rosenblatt designed the first neural network for computers (the perceptron), which simulate the thought processes of the human brain.\n",
      "1967 — The “nearest neighbor” algorithm was written, allowing computers to begin using very basic pattern recognition.\n",
      "1997 — IBM’s Deep Blue beats the world champion at chess.\n",
      "2011 — IBM’s Watson beats its human competitors at Jeopardy.\n",
      "The AlphaGo algorithm developed by Google DeepMind managed to win five games out of five in the Go competition.\n"
     ]
    }
   ],
   "source": [
    "print(answer(\"https://www.forbes.com/sites/bernardmarr/2016/02/19/a-short-history-of-machine-learning-every-manager-should-read/?sh=2474976115e7\", 0.8))"
   ]
  },
  {
   "cell_type": "code",
   "execution_count": 33,
   "id": "5a04b172",
   "metadata": {},
   "outputs": [
    {
     "name": "stdout",
     "output_type": "stream",
     "text": [
      "Who was the first person to create the concept of a self-learning machine?\n",
      "The test was designed to determine whether a computer has human-like intelligence.\n",
      "1952 – Arthur Samuels, the American pioneer in the field of artificial intelligence and computer gaming, wrote the very first computer learning program.\n",
      "1967 – The nearest neighbor algorithm was written for the first time this year.\n",
      "The 1990s – during the 1990s, the work in machine learning shifted from the knowledge-driven approach to the data-driven approach.\n",
      "For starters, IBM’s Watson managed to beat human competitors at Jeopardy.\n",
      "2016 – this was the year when Google’s artificial intelligence algorithms managed to beat a professional player at the Chinese board game Go.\n",
      "Natural language processing (NLP)\n"
     ]
    }
   ],
   "source": [
    "print(answer(\"https://concisesoftware.com/history-of-machine-learning/\", 0.99))"
   ]
  }
 ],
 "metadata": {
  "kernelspec": {
   "display_name": "Python 3 (ipykernel)",
   "language": "python",
   "name": "python3"
  },
  "language_info": {
   "codemirror_mode": {
    "name": "ipython",
    "version": 3
   },
   "file_extension": ".py",
   "mimetype": "text/x-python",
   "name": "python",
   "nbconvert_exporter": "python",
   "pygments_lexer": "ipython3",
   "version": "3.9.7"
  }
 },
 "nbformat": 4,
 "nbformat_minor": 5
}
