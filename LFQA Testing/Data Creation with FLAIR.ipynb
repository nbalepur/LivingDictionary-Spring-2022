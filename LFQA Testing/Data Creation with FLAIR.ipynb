{
 "cells": [
  {
   "cell_type": "code",
   "execution_count": 1,
   "id": "d50e4203",
   "metadata": {},
   "outputs": [],
   "source": [
    "import praw\n",
    "import numpy as np\n",
    "import nltk\n",
    "import pandas as pd"
   ]
  },
  {
   "cell_type": "markdown",
   "id": "06c5e07e",
   "metadata": {},
   "source": [
    "## Data Collection"
   ]
  },
  {
   "cell_type": "code",
   "execution_count": 2,
   "id": "dde29b41",
   "metadata": {},
   "outputs": [],
   "source": [
    "reddit = praw.Reddit(\n",
    "    client_id = \"yL3iXDHMD8L8On0LhYhNIQ\",\n",
    "    client_secret = \"tgbVu3DgCbNuPI0z5avZxF01dbTTfQ\",\n",
    "    user_agent = \"IndependenceAlive625\",\n",
    ")"
   ]
  },
  {
   "cell_type": "code",
   "execution_count": 3,
   "id": "f1d9086e",
   "metadata": {},
   "outputs": [],
   "source": [
    "subreddit = reddit.subreddit(\"explainlikeimfive\")"
   ]
  },
  {
   "cell_type": "code",
   "execution_count": 11,
   "id": "cbea7f8e",
   "metadata": {},
   "outputs": [],
   "source": [
    "submissions_positive = [submission for submission in subreddit.search('flair:\"technology\" what is the history of')]\n",
    "submissions_negative = [subreddit.random() for i in range(len(submissions_positive))]"
   ]
  },
  {
   "cell_type": "code",
   "execution_count": 13,
   "id": "56714631",
   "metadata": {},
   "outputs": [],
   "source": [
    "def get_top_comment(s):\n",
    "    \n",
    "    scores = [c.score for c in s.comments if not isinstance(c, praw.models.MoreComments)]\n",
    "    \n",
    "    if len(scores) == 0:\n",
    "        return None\n",
    "    \n",
    "    return s.comments[np.argmax(scores)].body"
   ]
  },
  {
   "cell_type": "code",
   "execution_count": 14,
   "id": "e28edad3",
   "metadata": {},
   "outputs": [],
   "source": [
    "data = []\n",
    "for submission in submissions_positive:\n",
    "    top_comment = get_top_comment(submission)\n",
    "    \n",
    "    if top_comment == None:\n",
    "        continue\n",
    "        \n",
    "    for sent in nltk.sent_tokenize(top_comment):\n",
    "        data.append((sent, True))\n",
    "    \n",
    "for submission in submissions_negative:\n",
    "    \n",
    "    top_comment = get_top_comment(submission)\n",
    "    \n",
    "    if top_comment == None:\n",
    "        continue\n",
    "    \n",
    "    for sent in nltk.sent_tokenize(top_comment):\n",
    "        data.append((sent, False))"
   ]
  },
  {
   "cell_type": "code",
   "execution_count": 21,
   "id": "e7aee9f4",
   "metadata": {},
   "outputs": [
    {
     "data": {
      "text/html": [
       "<div>\n",
       "<style scoped>\n",
       "    .dataframe tbody tr th:only-of-type {\n",
       "        vertical-align: middle;\n",
       "    }\n",
       "\n",
       "    .dataframe tbody tr th {\n",
       "        vertical-align: top;\n",
       "    }\n",
       "\n",
       "    .dataframe thead th {\n",
       "        text-align: right;\n",
       "    }\n",
       "</style>\n",
       "<table border=\"1\" class=\"dataframe\">\n",
       "  <thead>\n",
       "    <tr style=\"text-align: right;\">\n",
       "      <th></th>\n",
       "      <th>sentence</th>\n",
       "      <th>is_instance</th>\n",
       "    </tr>\n",
       "  </thead>\n",
       "  <tbody>\n",
       "    <tr>\n",
       "      <th>724</th>\n",
       "      <td>Some are talking about different frequencies (...</td>\n",
       "      <td>True</td>\n",
       "    </tr>\n",
       "    <tr>\n",
       "      <th>94</th>\n",
       "      <td>It was chosen because it’s easy to multiply an...</td>\n",
       "      <td>True</td>\n",
       "    </tr>\n",
       "    <tr>\n",
       "      <th>479</th>\n",
       "      <td>This is the tricky part I was talking about, b...</td>\n",
       "      <td>True</td>\n",
       "    </tr>\n",
       "    <tr>\n",
       "      <th>885</th>\n",
       "      <td>[Obviously, this is a gain a simplification as...</td>\n",
       "      <td>False</td>\n",
       "    </tr>\n",
       "    <tr>\n",
       "      <th>509</th>\n",
       "      <td>In the case of our example blockchain, for eac...</td>\n",
       "      <td>True</td>\n",
       "    </tr>\n",
       "  </tbody>\n",
       "</table>\n",
       "</div>"
      ],
      "text/plain": [
       "                                              sentence  is_instance\n",
       "724  Some are talking about different frequencies (...         True\n",
       "94   It was chosen because it’s easy to multiply an...         True\n",
       "479  This is the tricky part I was talking about, b...         True\n",
       "885  [Obviously, this is a gain a simplification as...        False\n",
       "509  In the case of our example blockchain, for eac...         True"
      ]
     },
     "execution_count": 21,
     "metadata": {},
     "output_type": "execute_result"
    }
   ],
   "source": [
    "df = pd.DataFrame(data, columns = [\"sentence\", \"is_instance\"])\n",
    "df.sample(n = 5)"
   ]
  },
  {
   "cell_type": "code",
   "execution_count": 22,
   "id": "8383356b",
   "metadata": {},
   "outputs": [],
   "source": [
    "df.to_csv(\"data_flair.csv\")"
   ]
  }
 ],
 "metadata": {
  "kernelspec": {
   "display_name": "Python 3 (ipykernel)",
   "language": "python",
   "name": "python3"
  },
  "language_info": {
   "codemirror_mode": {
    "name": "ipython",
    "version": 3
   },
   "file_extension": ".py",
   "mimetype": "text/x-python",
   "name": "python",
   "nbconvert_exporter": "python",
   "pygments_lexer": "ipython3",
   "version": "3.8.12"
  }
 },
 "nbformat": 4,
 "nbformat_minor": 5
}
