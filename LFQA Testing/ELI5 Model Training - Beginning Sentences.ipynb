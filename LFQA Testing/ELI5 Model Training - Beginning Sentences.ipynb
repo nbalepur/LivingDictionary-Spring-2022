{
 "cells": [
  {
   "cell_type": "code",
   "execution_count": 1,
   "id": "aaae41d5",
   "metadata": {},
   "outputs": [],
   "source": [
    "import pandas as pd\n",
    "import numpy as np\n",
    "import nltk\n",
    "from nltk.tokenize import word_tokenize\n",
    "from nltk import pos_tag\n",
    "from nltk.corpus import stopwords\n",
    "from nltk.stem import WordNetLemmatizer\n",
    "from sklearn.preprocessing import LabelEncoder\n",
    "from collections import defaultdict\n",
    "from nltk.corpus import wordnet as wn\n",
    "from sklearn.feature_extraction.text import TfidfVectorizer\n",
    "from sklearn import model_selection, svm\n",
    "from sklearn.metrics import accuracy_score\n",
    "import re\n",
    "import fasttext\n",
    "from sklearn.model_selection import train_test_split\n",
    "from sklearn.metrics import confusion_matrix\n",
    "from IPython.display import display, HTML\n",
    "import seaborn as sns\n",
    "import urllib.request as urllib2\n",
    "from bs4 import BeautifulSoup"
   ]
  },
  {
   "cell_type": "markdown",
   "id": "34863a9a",
   "metadata": {},
   "source": [
    "## Data Cleaning"
   ]
  },
  {
   "cell_type": "code",
   "execution_count": 17,
   "id": "24cf9544",
   "metadata": {},
   "outputs": [
    {
     "data": {
      "text/html": [
       "<div>\n",
       "<style scoped>\n",
       "    .dataframe tbody tr th:only-of-type {\n",
       "        vertical-align: middle;\n",
       "    }\n",
       "\n",
       "    .dataframe tbody tr th {\n",
       "        vertical-align: top;\n",
       "    }\n",
       "\n",
       "    .dataframe thead th {\n",
       "        text-align: right;\n",
       "    }\n",
       "</style>\n",
       "<table border=\"1\" class=\"dataframe\">\n",
       "  <thead>\n",
       "    <tr style=\"text-align: right;\">\n",
       "      <th></th>\n",
       "      <th>Unnamed: 0</th>\n",
       "      <th>sentence</th>\n",
       "      <th>is_instance</th>\n",
       "    </tr>\n",
       "  </thead>\n",
       "  <tbody>\n",
       "    <tr>\n",
       "      <th>0</th>\n",
       "      <td>0</td>\n",
       "      <td>So let me get this straight.</td>\n",
       "      <td>True</td>\n",
       "    </tr>\n",
       "    <tr>\n",
       "      <th>1</th>\n",
       "      <td>1</td>\n",
       "      <td>In 1979, Iran overthrew the US friendly Shah, ...</td>\n",
       "      <td>True</td>\n",
       "    </tr>\n",
       "    <tr>\n",
       "      <th>2</th>\n",
       "      <td>2</td>\n",
       "      <td>A boy named Christopher Poole (moot) created a...</td>\n",
       "      <td>True</td>\n",
       "    </tr>\n",
       "    <tr>\n",
       "      <th>3</th>\n",
       "      <td>3</td>\n",
       "      <td>Chechnya lies in the Caucasus area of central ...</td>\n",
       "      <td>True</td>\n",
       "    </tr>\n",
       "    <tr>\n",
       "      <th>4</th>\n",
       "      <td>4</td>\n",
       "      <td>With romance languages, the lower-case prefixe...</td>\n",
       "      <td>True</td>\n",
       "    </tr>\n",
       "    <tr>\n",
       "      <th>...</th>\n",
       "      <td>...</td>\n",
       "      <td>...</td>\n",
       "      <td>...</td>\n",
       "    </tr>\n",
       "    <tr>\n",
       "      <th>194</th>\n",
       "      <td>194</td>\n",
       "      <td>It depends on the context, so I'm not sure exa...</td>\n",
       "      <td>False</td>\n",
       "    </tr>\n",
       "    <tr>\n",
       "      <th>195</th>\n",
       "      <td>195</td>\n",
       "      <td>its sort of like communism, but more decentral...</td>\n",
       "      <td>False</td>\n",
       "    </tr>\n",
       "    <tr>\n",
       "      <th>196</th>\n",
       "      <td>196</td>\n",
       "      <td>With a mirror, every single photon of light th...</td>\n",
       "      <td>False</td>\n",
       "    </tr>\n",
       "    <tr>\n",
       "      <th>197</th>\n",
       "      <td>197</td>\n",
       "      <td>Interest rates are like the price of money.</td>\n",
       "      <td>False</td>\n",
       "    </tr>\n",
       "    <tr>\n",
       "      <th>198</th>\n",
       "      <td>198</td>\n",
       "      <td>Referred pain from esophagus/gut https://whatc...</td>\n",
       "      <td>False</td>\n",
       "    </tr>\n",
       "  </tbody>\n",
       "</table>\n",
       "<p>199 rows × 3 columns</p>\n",
       "</div>"
      ],
      "text/plain": [
       "     Unnamed: 0                                           sentence  \\\n",
       "0             0                       So let me get this straight.   \n",
       "1             1  In 1979, Iran overthrew the US friendly Shah, ...   \n",
       "2             2  A boy named Christopher Poole (moot) created a...   \n",
       "3             3  Chechnya lies in the Caucasus area of central ...   \n",
       "4             4  With romance languages, the lower-case prefixe...   \n",
       "..          ...                                                ...   \n",
       "194         194  It depends on the context, so I'm not sure exa...   \n",
       "195         195  its sort of like communism, but more decentral...   \n",
       "196         196  With a mirror, every single photon of light th...   \n",
       "197         197        Interest rates are like the price of money.   \n",
       "198         198  Referred pain from esophagus/gut https://whatc...   \n",
       "\n",
       "     is_instance  \n",
       "0           True  \n",
       "1           True  \n",
       "2           True  \n",
       "3           True  \n",
       "4           True  \n",
       "..           ...  \n",
       "194        False  \n",
       "195        False  \n",
       "196        False  \n",
       "197        False  \n",
       "198        False  \n",
       "\n",
       "[199 rows x 3 columns]"
      ]
     },
     "execution_count": 17,
     "metadata": {},
     "output_type": "execute_result"
    }
   ],
   "source": [
    "data = pd.read_csv(\"beg_data.csv\")"
   ]
  },
  {
   "cell_type": "code",
   "execution_count": 26,
   "id": "f65d44f9",
   "metadata": {},
   "outputs": [],
   "source": [
    "# train/valid/test = 0.8/0.1/0.1\n",
    "\n",
    "def clean_text(text):\n",
    "    cleaned_text = re.sub(r'[^A-Za-z0-9 ]+', '', text)\n",
    "    return cleaned_text.lower()\n",
    "    \n",
    "def clean_instances(data):\n",
    "    instances = data[\"sentence\"]\n",
    "    labels = data[\"is_instance\"]\n",
    "    \n",
    "    labels = [\"instance\" if l else \"not_instance\" for l in labels]\n",
    "    \n",
    "    cleaned_instances = [clean_text(inst) for inst in instances]\n",
    "    \n",
    "    df_new = pd.DataFrame(columns = data.columns)\n",
    "    df_new[data.columns] = data[data.columns]\n",
    "    df_new[\"sentence\"] = cleaned_instances\n",
    "    \n",
    "    df_new[\"is_instance\"] = labels\n",
    "    \n",
    "    return df_new\n",
    "\n",
    "\n",
    "data_clean = clean_instances(data)\n",
    "\n",
    "train_text, truth_text, train_labels, truth_labels = train_test_split(data_clean[\"sentence\"], data_clean[\"is_instance\"], test_size = 0.1, shuffle = True)\n",
    "train_text, test_text, train_labels, test_labels = train_test_split(train_text, train_labels, test_size = 1/9, shuffle = True)\n",
    "\n",
    "train_text, test_text, truth_text = train_text.to_numpy(), test_text.to_numpy(), truth_text.to_numpy()\n",
    "train_labels, test_labels, truth_labels = train_labels.to_numpy(), test_labels.to_numpy(), truth_labels.to_numpy()"
   ]
  },
  {
   "cell_type": "code",
   "execution_count": 27,
   "id": "c0d004ff",
   "metadata": {},
   "outputs": [],
   "source": [
    "fasttext_data_train = [f\"__label__{train_labels[i]} {train_text[i]}\" for i in range(len(train_labels))]\n",
    "fasttext_data_test = [f\"__label__{test_labels[i]} {test_text[i]}\" for i in range(len(test_labels))]\n",
    "fasttext_data_truth = [f\"__label__{truth_labels[i]} {truth_text[i]}\" for i in range(len(truth_labels))]\n",
    "\n",
    "train_file = open(\"model.train\", \"w+\")\n",
    "test_file = open(\"model.valid\", \"w+\")\n",
    "truth_file = open(\"model.truth\", \"w+\")\n",
    "\n",
    "train_file.write(\"\\n\".join(fasttext_data_train))\n",
    "test_file.write(\"\\n\".join(fasttext_data_test))\n",
    "truth_file.write(\"\\n\".join(fasttext_data_truth))\n",
    "\n",
    "train_file.close()\n",
    "test_file.close()\n",
    "truth_file.close()"
   ]
  },
  {
   "cell_type": "markdown",
   "id": "23263570",
   "metadata": {},
   "source": [
    "## Parameter Selection"
   ]
  },
  {
   "cell_type": "code",
   "execution_count": 28,
   "id": "a21e7315",
   "metadata": {},
   "outputs": [],
   "source": [
    "cv_data = []\n",
    "\n",
    "for lr in np.arange(0, 1, 0.05):\n",
    "    row = []\n",
    "    for epochs in range(5, 35, 5):\n",
    "        model_cv = fasttext.train_supervised(input = \"model.train\", lr = lr, epoch = epochs)\n",
    "        p = model_cv.test(\"model.valid\")[1]\n",
    "        row.append(p)\n",
    "    cv_data.append(row)"
   ]
  },
  {
   "cell_type": "code",
   "execution_count": 29,
   "id": "8c8f22d0",
   "metadata": {},
   "outputs": [
    {
     "data": {
      "text/plain": [
       "<AxesSubplot:>"
      ]
     },
     "execution_count": 29,
     "metadata": {},
     "output_type": "execute_result"
    },
    {
     "data": {
      "image/png": "[encoded data removed]",
      "text/plain": [
       "<Figure size 432x288 with 2 Axes>"
      ]
     },
     "metadata": {
      "needs_background": "light"
     },
     "output_type": "display_data"
    }
   ],
   "source": [
    "sns.heatmap(cv_data, vmin = np.min(cv_data), vmax = 1, xticklabels = np.arange(5, 35, 5), yticklabels = np.arange(0, 1, 0.05).round(3))"
   ]
  },
  {
   "cell_type": "code",
   "execution_count": 36,
   "id": "b52b2410",
   "metadata": {},
   "outputs": [
    {
     "name": "stdout",
     "output_type": "stream",
     "text": [
      "Best Learning Rate: 0.6000000000000001\n",
      "Best Number of Epochs: 10\n",
      "Max Precision/Recall: 0.7368421052631579\n"
     ]
    }
   ],
   "source": [
    "max_idx = np.unravel_index(np.array(cv_data).argmax(), np.array(cv_data).shape)\n",
    "best_learning_rate = np.arange(0, 1, 0.05)[max_idx[0]]\n",
    "best_epochs = np.arange(5, 35, 5)[max_idx[1]]\n",
    "max_p = cv_data[max_idx[0]][max_idx[1]]\n",
    "\n",
    "print(f\"Best Learning Rate: {best_learning_rate}\\nBest Number of Epochs: {best_epochs}\\nMax Precision/Recall: {max_p}\")"
   ]
  },
  {
   "cell_type": "code",
   "execution_count": 37,
   "id": "0db2ab98",
   "metadata": {},
   "outputs": [],
   "source": [
    "def create_confusion_mat(text, labels, m):\n",
    "    \n",
    "    df = pd.DataFrame(confusion_matrix([str(l) for l in labels], [m.predict(t)[0][0][len(\"__label__\"):] for t in text]), index = [\"Actual Not Instance\", \"Actual Instance\"])\n",
    "    df.columns = [\"Predicted Not Instance\", \"Predicted Instance\"]\n",
    "                  \n",
    "    return df\n",
    "\n",
    "def print_precision_recall(filename, m):\n",
    "    n, p, r = m.test(filename)\n",
    "    print(f\"Results for {filename}\\nPrecision: {p} | Recall: {p}\\n\\n\")"
   ]
  },
  {
   "cell_type": "markdown",
   "id": "bf30e855",
   "metadata": {},
   "source": [
    "## Analyzing Results"
   ]
  },
  {
   "cell_type": "code",
   "execution_count": 48,
   "id": "37c6b3d0",
   "metadata": {},
   "outputs": [],
   "source": [
    "model_cv = fasttext.train_supervised(input = \"model.train\", lr = best_learning_rate, epoch = best_epochs)"
   ]
  },
  {
   "cell_type": "code",
   "execution_count": 49,
   "id": "a7f1c8cf",
   "metadata": {},
   "outputs": [
    {
     "name": "stdout",
     "output_type": "stream",
     "text": [
      "Results for model.train\n",
      "Precision: 0.9685534591194969 | Recall: 0.9685534591194969\n",
      "\n",
      "\n",
      "Results for model.valid\n",
      "Precision: 0.631578947368421 | Recall: 0.631578947368421\n",
      "\n",
      "\n",
      "Results for model.truth\n",
      "Precision: 0.5 | Recall: 0.5\n",
      "\n",
      "\n"
     ]
    }
   ],
   "source": [
    "for fn in [\"model.train\", \"model.valid\", \"model.truth\"]:\n",
    "    print_precision_recall(fn, model_cv)"
   ]
  },
  {
   "cell_type": "code",
   "execution_count": 50,
   "id": "e8827bfd",
   "metadata": {},
   "outputs": [
    {
     "data": {
      "text/html": [
       "<b>Training Data Confusion Matrix</b>"
      ],
      "text/plain": [
       "<IPython.core.display.HTML object>"
      ]
     },
     "metadata": {},
     "output_type": "display_data"
    },
    {
     "data": {
      "text/html": [
       "<div>\n",
       "<style scoped>\n",
       "    .dataframe tbody tr th:only-of-type {\n",
       "        vertical-align: middle;\n",
       "    }\n",
       "\n",
       "    .dataframe tbody tr th {\n",
       "        vertical-align: top;\n",
       "    }\n",
       "\n",
       "    .dataframe thead th {\n",
       "        text-align: right;\n",
       "    }\n",
       "</style>\n",
       "<table border=\"1\" class=\"dataframe\">\n",
       "  <thead>\n",
       "    <tr style=\"text-align: right;\">\n",
       "      <th></th>\n",
       "      <th>Predicted Not Instance</th>\n",
       "      <th>Predicted Instance</th>\n",
       "    </tr>\n",
       "  </thead>\n",
       "  <tbody>\n",
       "    <tr>\n",
       "      <th>Actual Not Instance</th>\n",
       "      <td>78</td>\n",
       "      <td>3</td>\n",
       "    </tr>\n",
       "    <tr>\n",
       "      <th>Actual Instance</th>\n",
       "      <td>2</td>\n",
       "      <td>76</td>\n",
       "    </tr>\n",
       "  </tbody>\n",
       "</table>\n",
       "</div>"
      ],
      "text/plain": [
       "                     Predicted Not Instance  Predicted Instance\n",
       "Actual Not Instance                      78                   3\n",
       "Actual Instance                           2                  76"
      ]
     },
     "execution_count": 50,
     "metadata": {},
     "output_type": "execute_result"
    }
   ],
   "source": [
    "display(HTML('<b>Training Data Confusion Matrix</b>'))\n",
    "create_confusion_mat(train_text, train_labels, model_cv)"
   ]
  },
  {
   "cell_type": "code",
   "execution_count": 51,
   "id": "e62477a2",
   "metadata": {},
   "outputs": [
    {
     "data": {
      "text/html": [
       "<b>Validation Data Confusion Matrix</b>"
      ],
      "text/plain": [
       "<IPython.core.display.HTML object>"
      ]
     },
     "metadata": {},
     "output_type": "display_data"
    },
    {
     "data": {
      "text/html": [
       "<div>\n",
       "<style scoped>\n",
       "    .dataframe tbody tr th:only-of-type {\n",
       "        vertical-align: middle;\n",
       "    }\n",
       "\n",
       "    .dataframe tbody tr th {\n",
       "        vertical-align: top;\n",
       "    }\n",
       "\n",
       "    .dataframe thead th {\n",
       "        text-align: right;\n",
       "    }\n",
       "</style>\n",
       "<table border=\"1\" class=\"dataframe\">\n",
       "  <thead>\n",
       "    <tr style=\"text-align: right;\">\n",
       "      <th></th>\n",
       "      <th>Predicted Not Instance</th>\n",
       "      <th>Predicted Instance</th>\n",
       "    </tr>\n",
       "  </thead>\n",
       "  <tbody>\n",
       "    <tr>\n",
       "      <th>Actual Not Instance</th>\n",
       "      <td>8</td>\n",
       "      <td>1</td>\n",
       "    </tr>\n",
       "    <tr>\n",
       "      <th>Actual Instance</th>\n",
       "      <td>7</td>\n",
       "      <td>4</td>\n",
       "    </tr>\n",
       "  </tbody>\n",
       "</table>\n",
       "</div>"
      ],
      "text/plain": [
       "                     Predicted Not Instance  Predicted Instance\n",
       "Actual Not Instance                       8                   1\n",
       "Actual Instance                           7                   4"
      ]
     },
     "execution_count": 51,
     "metadata": {},
     "output_type": "execute_result"
    }
   ],
   "source": [
    "display(HTML('<b>Validation Data Confusion Matrix</b>'))\n",
    "create_confusion_mat(test_text, test_labels, model_cv)"
   ]
  },
  {
   "cell_type": "code",
   "execution_count": 52,
   "id": "0852ebd3",
   "metadata": {},
   "outputs": [
    {
     "data": {
      "text/html": [
       "<b>Testing Data Confusion Matrix</b>"
      ],
      "text/plain": [
       "<IPython.core.display.HTML object>"
      ]
     },
     "metadata": {},
     "output_type": "display_data"
    },
    {
     "data": {
      "text/html": [
       "<div>\n",
       "<style scoped>\n",
       "    .dataframe tbody tr th:only-of-type {\n",
       "        vertical-align: middle;\n",
       "    }\n",
       "\n",
       "    .dataframe tbody tr th {\n",
       "        vertical-align: top;\n",
       "    }\n",
       "\n",
       "    .dataframe thead th {\n",
       "        text-align: right;\n",
       "    }\n",
       "</style>\n",
       "<table border=\"1\" class=\"dataframe\">\n",
       "  <thead>\n",
       "    <tr style=\"text-align: right;\">\n",
       "      <th></th>\n",
       "      <th>Predicted Not Instance</th>\n",
       "      <th>Predicted Instance</th>\n",
       "    </tr>\n",
       "  </thead>\n",
       "  <tbody>\n",
       "    <tr>\n",
       "      <th>Actual Not Instance</th>\n",
       "      <td>5</td>\n",
       "      <td>4</td>\n",
       "    </tr>\n",
       "    <tr>\n",
       "      <th>Actual Instance</th>\n",
       "      <td>6</td>\n",
       "      <td>5</td>\n",
       "    </tr>\n",
       "  </tbody>\n",
       "</table>\n",
       "</div>"
      ],
      "text/plain": [
       "                     Predicted Not Instance  Predicted Instance\n",
       "Actual Not Instance                       5                   4\n",
       "Actual Instance                           6                   5"
      ]
     },
     "execution_count": 52,
     "metadata": {},
     "output_type": "execute_result"
    }
   ],
   "source": [
    "display(HTML('<b>Testing Data Confusion Matrix</b>'))\n",
    "create_confusion_mat(truth_text, truth_labels, model_cv)"
   ]
  },
  {
   "cell_type": "markdown",
   "id": "d433e606",
   "metadata": {},
   "source": [
    "## Predicting on the Web"
   ]
  },
  {
   "cell_type": "code",
   "execution_count": 53,
   "id": "203a254a",
   "metadata": {},
   "outputs": [],
   "source": [
    "def answer(url, tol):\n",
    "    \n",
    "    hdr = {'User-Agent': 'Mozilla/5.0'}\n",
    "    req = urllib2.Request(url, headers = hdr)\n",
    "    page = urllib2.urlopen(req)\n",
    "    soup = BeautifulSoup(page, \"html.parser\")\n",
    "    \n",
    "    paragraphs_web = soup.findAll(\"p\")\n",
    "    paragraphs_web = [p.text for p in paragraphs_web]\n",
    "    \n",
    "    response = []\n",
    "\n",
    "    for p in paragraphs_web:\n",
    "        sentences = [s for s in nltk.sent_tokenize(p)]\n",
    "        sentences_cleaned = [clean_text(s) for s in sentences]\n",
    "\n",
    "        pred = [(model_cv.predict(s)[0][0][len(\"__label__\"):] == 'instance', model_cv.predict(s)[1][0]) for s in sentences_cleaned]\n",
    "\n",
    "        curr_response = []\n",
    "        for i, (label, score) in enumerate(pred):\n",
    "            if label and score > tol:\n",
    "                curr_response.append(sentences[i])\n",
    "        \n",
    "        response.append(\". \".join(curr_response))\n",
    "    \n",
    "        \n",
    "    return \"\\n\\n\".join(response)"
   ]
  },
  {
   "cell_type": "code",
   "execution_count": 56,
   "id": "77a2d421",
   "metadata": {},
   "outputs": [
    {
     "name": "stdout",
     "output_type": "stream",
     "text": [
      "\n",
      "\n",
      "It uses algorithms and neural network models to assist computer systems in progressively improving their performance.. LEARN HOW TO BUILD A DATA LITERACY PROGRAM\n",
      "Developing Data Literacy is key to becoming a data-driven organization – try our online courses to get started.\n",
      "\n",
      "Developing Data Literacy is key to becoming a data-driven organization – try our online courses to get started.\n",
      "\n",
      "\n",
      "\n",
      "\n",
      "\n",
      "\n",
      "\n",
      "\n",
      "\n",
      "\n",
      "\n",
      "\n",
      "\n",
      "\n",
      "\n",
      "The use of multiple layers led to feedforward neural networks and backpropagation.\n",
      "\n",
      "Backpropagation, developed in the 1970s, allows a network to adjust its hidden layers of neurons/nodes to adapt to new situations.. Backpropagation is now being used to train deep neural networks.\n",
      "\n",
      "\n",
      "\n",
      "Additionally, neural network research was abandoned by computer science and AI researchers.\n",
      "\n",
      "The industry goal shifted from training for artificial intelligence to solving practical problems in terms of providing services.. Its focus shifted from the approaches inherited from AI research to methods and tactics used in probability theory and statistics.\n",
      "\n",
      "\n",
      "\n",
      "\n",
      "\n",
      "\n",
      "\n",
      "\n",
      "\n",
      "\n",
      "\n",
      "\n",
      "\n",
      "\n",
      "\n",
      "\n",
      "\n",
      "Modern ML models can be used to make predictions ranging from outbreaks of disease to the rise and fall of stocks.\n",
      "\n",
      "\n",
      "\n",
      "Image used under license from Shutterstock.com\n",
      "\n",
      "\n",
      "\n",
      "Cookies SettingsTerms of Service  Privacy Policy\n"
     ]
    }
   ],
   "source": [
    "print(answer(\"https://www.dataversity.net/a-brief-history-of-machine-learning/\", 0.95))"
   ]
  },
  {
   "cell_type": "code",
   "execution_count": 57,
   "id": "e9272d36",
   "metadata": {},
   "outputs": [
    {
     "name": "stdout",
     "output_type": "stream",
     "text": [
      "\n",
      "\n",
      "Machine Learning is a sub-set of artificial intelligence where computer algorithms are used to autonomously learn from data and information.\n",
      "\n",
      "\n",
      "\n",
      "\n",
      "\n",
      "\n",
      "\n",
      "\n",
      "\n",
      "\n",
      "\n",
      "\n",
      "\n",
      "\n",
      "\n",
      "\n",
      "\n",
      "\n",
      "\n",
      "\n",
      "\n",
      "\n",
      "\n",
      "\n",
      "\n",
      "\n",
      "\n",
      "\n",
      "\n",
      "\n",
      "\n",
      "\n",
      "\n",
      "\n",
      "\n",
      "\n",
      "\n",
      "\n",
      "\n",
      "\n",
      "\n",
      "2015 – Over 3,000 AI and Robotics researchers, endorsed by Stephen Hawking, Elon Musk and Steve Wozniak (among many others), sign an open letter warning of the danger of autonomous weapons which select and engage targets without human intervention.\n",
      "\n",
      "\n",
      "\n",
      "\n",
      "\n",
      "\n",
      "\n",
      "\n",
      "\n",
      "\n"
     ]
    }
   ],
   "source": [
    "print(answer(\"https://www.forbes.com/sites/bernardmarr/2016/02/19/a-short-history-of-machine-learning-every-manager-should-read/?sh=2474976115e7\", 0.95))"
   ]
  },
  {
   "cell_type": "code",
   "execution_count": null,
   "id": "5a04b172",
   "metadata": {},
   "outputs": [],
   "source": []
  },
  {
   "cell_type": "code",
   "execution_count": null,
   "id": "b46e2c57",
   "metadata": {},
   "outputs": [],
   "source": []
  },
  {
   "cell_type": "code",
   "execution_count": null,
   "id": "e9cc16db",
   "metadata": {},
   "outputs": [],
   "source": []
  }
 ],
 "metadata": {
  "kernelspec": {
   "display_name": "Python 3 (ipykernel)",
   "language": "python",
   "name": "python3"
  },
  "language_info": {
   "codemirror_mode": {
    "name": "ipython",
    "version": 3
   },
   "file_extension": ".py",
   "mimetype": "text/x-python",
   "name": "python",
   "nbconvert_exporter": "python",
   "pygments_lexer": "ipython3",
   "version": "3.8.12"
  }
 },
 "nbformat": 4,
 "nbformat_minor": 5
}
