{
 "cells": [
  {
   "cell_type": "code",
   "execution_count": 1,
   "id": "aaae41d5",
   "metadata": {},
   "outputs": [],
   "source": [
    "import pandas as pd\n",
    "import numpy as np\n",
    "import nltk\n",
    "from nltk.tokenize import word_tokenize\n",
    "from nltk import pos_tag\n",
    "from nltk.corpus import stopwords\n",
    "from nltk.stem import WordNetLemmatizer\n",
    "from sklearn.preprocessing import LabelEncoder\n",
    "from collections import defaultdict\n",
    "from nltk.corpus import wordnet as wn\n",
    "from sklearn.feature_extraction.text import TfidfVectorizer\n",
    "from sklearn import model_selection, svm\n",
    "from sklearn.metrics import accuracy_score\n",
    "import re\n",
    "import fasttext\n",
    "from sklearn.model_selection import train_test_split\n",
    "from sklearn.metrics import confusion_matrix\n",
    "from IPython.display import display, HTML\n",
    "import seaborn as sns\n",
    "import urllib.request as urllib2\n",
    "from bs4 import BeautifulSoup"
   ]
  },
  {
   "cell_type": "markdown",
   "id": "34863a9a",
   "metadata": {},
   "source": [
    "## Data Cleaning"
   ]
  },
  {
   "cell_type": "code",
   "execution_count": 2,
   "id": "24cf9544",
   "metadata": {},
   "outputs": [],
   "source": [
    "data = pd.read_csv(\"data.csv\")"
   ]
  },
  {
   "cell_type": "code",
   "execution_count": 3,
   "id": "f65d44f9",
   "metadata": {},
   "outputs": [],
   "source": [
    "# train/valid/test = 0.8/0.1/0.1\n",
    "\n",
    "def clean_text(text):\n",
    "    cleaned_text = re.sub(r'[^A-Za-z0-9 ]+', '', text)\n",
    "    return cleaned_text.lower()\n",
    "    \n",
    "def clean_instances(data):\n",
    "    instances = data[\"sentence\"]\n",
    "    labels = data[\"is_instance\"]\n",
    "    \n",
    "    labels = [\"instance\" if l else \"not_instance\" for l in labels]\n",
    "    \n",
    "    cleaned_instances = [clean_text(inst) for inst in instances]\n",
    "    \n",
    "    df_new = pd.DataFrame(columns = data.columns)\n",
    "    df_new[data.columns] = data[data.columns]\n",
    "    df_new[\"sentence\"] = cleaned_instances\n",
    "    \n",
    "    df_new[\"is_instance\"] = labels\n",
    "    \n",
    "    return df_new\n",
    "\n",
    "\n",
    "data_clean = clean_instances(data)\n",
    "\n",
    "train_text, truth_text, train_labels, truth_labels = train_test_split(data_clean[\"sentence\"], data_clean[\"is_instance\"], test_size = 0.1, shuffle = True)\n",
    "train_text, test_text, train_labels, test_labels = train_test_split(train_text, train_labels, test_size = 1/9, shuffle = True)\n",
    "\n",
    "train_text, test_text, truth_text = train_text.to_numpy(), test_text.to_numpy(), truth_text.to_numpy()\n",
    "train_labels, test_labels, truth_labels = train_labels.to_numpy(), test_labels.to_numpy(), truth_labels.to_numpy()"
   ]
  },
  {
   "cell_type": "code",
   "execution_count": 4,
   "id": "c0d004ff",
   "metadata": {},
   "outputs": [],
   "source": [
    "fasttext_data_train = [f\"__label__{train_labels[i]} {train_text[i]}\" for i in range(len(train_labels))]\n",
    "fasttext_data_test = [f\"__label__{test_labels[i]} {test_text[i]}\" for i in range(len(test_labels))]\n",
    "fasttext_data_truth = [f\"__label__{truth_labels[i]} {truth_text[i]}\" for i in range(len(truth_labels))]\n",
    "\n",
    "train_file = open(\"model.train\", \"w+\")\n",
    "test_file = open(\"model.valid\", \"w+\")\n",
    "truth_file = open(\"model.truth\", \"w+\")\n",
    "\n",
    "train_file.write(\"\\n\".join(fasttext_data_train))\n",
    "test_file.write(\"\\n\".join(fasttext_data_test))\n",
    "truth_file.write(\"\\n\".join(fasttext_data_truth))\n",
    "\n",
    "train_file.close()\n",
    "test_file.close()\n",
    "truth_file.close()"
   ]
  },
  {
   "cell_type": "markdown",
   "id": "23263570",
   "metadata": {},
   "source": [
    "## Parameter Selection"
   ]
  },
  {
   "cell_type": "code",
   "execution_count": 5,
   "id": "a21e7315",
   "metadata": {},
   "outputs": [],
   "source": [
    "cv_data = []\n",
    "\n",
    "for lr in np.arange(0, 1, 0.05):\n",
    "    row = []\n",
    "    for epochs in range(5, 35, 5):\n",
    "        model_cv = fasttext.train_supervised(input = \"model.train\", lr = lr, epoch = epochs)\n",
    "        p = model_cv.test(\"model.valid\")[1]\n",
    "        row.append(p)\n",
    "    cv_data.append(row)"
   ]
  },
  {
   "cell_type": "code",
   "execution_count": 6,
   "id": "8c8f22d0",
   "metadata": {},
   "outputs": [
    {
     "data": {
      "text/plain": [
       "<AxesSubplot:>"
      ]
     },
     "execution_count": 6,
     "metadata": {},
     "output_type": "execute_result"
    },
    {
     "data": {
      "image/png": "[encoded data removed]",
      "text/plain": [
       "<Figure size 432x288 with 2 Axes>"
      ]
     },
     "metadata": {
      "needs_background": "light"
     },
     "output_type": "display_data"
    }
   ],
   "source": [
    "sns.heatmap(cv_data, vmin = np.min(cv_data), vmax = 1, xticklabels = np.arange(5, 35, 5), yticklabels = np.arange(0, 1, 0.05).round(3))"
   ]
  },
  {
   "cell_type": "code",
   "execution_count": 7,
   "id": "b52b2410",
   "metadata": {},
   "outputs": [
    {
     "name": "stdout",
     "output_type": "stream",
     "text": [
      "Best Learning Rate: 0.35000000000000003\n",
      "Best Number of Epochs: 10\n",
      "Max Precision/Recall: 0.7596899224806202\n"
     ]
    }
   ],
   "source": [
    "max_idx = np.unravel_index(np.array(cv_data).argmax(), np.array(cv_data).shape)\n",
    "best_learning_rate = np.arange(0, 1, 0.05)[max_idx[0]]\n",
    "best_epochs = np.arange(5, 35, 5)[max_idx[1]]\n",
    "max_p = cv_data[max_idx[0]][max_idx[1]]\n",
    "\n",
    "print(f\"Best Learning Rate: {best_learning_rate}\\nBest Number of Epochs: {best_epochs}\\nMax Precision/Recall: {max_p}\")"
   ]
  },
  {
   "cell_type": "code",
   "execution_count": 8,
   "id": "0db2ab98",
   "metadata": {},
   "outputs": [],
   "source": [
    "def create_confusion_mat(text, labels, m):\n",
    "    \n",
    "    df = pd.DataFrame(confusion_matrix([str(l) for l in labels], [m.predict(t)[0][0][len(\"__label__\"):] for t in text]), index = [\"Actual Not Instance\", \"Actual Instance\"])\n",
    "    df.columns = [\"Predicted Not Instance\", \"Predicted Instance\"]\n",
    "                  \n",
    "    return df\n",
    "\n",
    "def print_precision_recall(filename, m):\n",
    "    n, p, r = m.test(filename)\n",
    "    print(f\"Results for {filename}\\nPrecision: {p} | Recall: {p}\\n\\n\")"
   ]
  },
  {
   "cell_type": "markdown",
   "id": "bf30e855",
   "metadata": {},
   "source": [
    "## Analyzing Results"
   ]
  },
  {
   "cell_type": "code",
   "execution_count": 9,
   "id": "37c6b3d0",
   "metadata": {},
   "outputs": [],
   "source": [
    "model_cv = fasttext.train_supervised(input = \"model.train\", lr = best_learning_rate, epoch = best_epochs)"
   ]
  },
  {
   "cell_type": "code",
   "execution_count": 10,
   "id": "a7f1c8cf",
   "metadata": {},
   "outputs": [
    {
     "name": "stdout",
     "output_type": "stream",
     "text": [
      "Results for model.train\n",
      "Precision: 0.9903100775193798 | Recall: 0.9903100775193798\n",
      "\n",
      "\n",
      "Results for model.valid\n",
      "Precision: 0.7209302325581395 | Recall: 0.7209302325581395\n",
      "\n",
      "\n",
      "Results for model.truth\n",
      "Precision: 0.7829457364341085 | Recall: 0.7829457364341085\n",
      "\n",
      "\n"
     ]
    }
   ],
   "source": [
    "for fn in [\"model.train\", \"model.valid\", \"model.truth\"]:\n",
    "    print_precision_recall(fn, model_cv)"
   ]
  },
  {
   "cell_type": "code",
   "execution_count": 11,
   "id": "e8827bfd",
   "metadata": {},
   "outputs": [
    {
     "data": {
      "text/html": [
       "<b>Training Data Confusion Matrix</b>"
      ],
      "text/plain": [
       "<IPython.core.display.HTML object>"
      ]
     },
     "metadata": {},
     "output_type": "display_data"
    },
    {
     "data": {
      "text/html": [
       "<div>\n",
       "<style scoped>\n",
       "    .dataframe tbody tr th:only-of-type {\n",
       "        vertical-align: middle;\n",
       "    }\n",
       "\n",
       "    .dataframe tbody tr th {\n",
       "        vertical-align: top;\n",
       "    }\n",
       "\n",
       "    .dataframe thead th {\n",
       "        text-align: right;\n",
       "    }\n",
       "</style>\n",
       "<table border=\"1\" class=\"dataframe\">\n",
       "  <thead>\n",
       "    <tr style=\"text-align: right;\">\n",
       "      <th></th>\n",
       "      <th>Predicted Not Instance</th>\n",
       "      <th>Predicted Instance</th>\n",
       "    </tr>\n",
       "  </thead>\n",
       "  <tbody>\n",
       "    <tr>\n",
       "      <th>Actual Not Instance</th>\n",
       "      <td>537</td>\n",
       "      <td>1</td>\n",
       "    </tr>\n",
       "    <tr>\n",
       "      <th>Actual Instance</th>\n",
       "      <td>9</td>\n",
       "      <td>485</td>\n",
       "    </tr>\n",
       "  </tbody>\n",
       "</table>\n",
       "</div>"
      ],
      "text/plain": [
       "                     Predicted Not Instance  Predicted Instance\n",
       "Actual Not Instance                     537                   1\n",
       "Actual Instance                           9                 485"
      ]
     },
     "execution_count": 11,
     "metadata": {},
     "output_type": "execute_result"
    }
   ],
   "source": [
    "display(HTML('<b>Training Data Confusion Matrix</b>'))\n",
    "create_confusion_mat(train_text, train_labels, model_cv)"
   ]
  },
  {
   "cell_type": "code",
   "execution_count": 12,
   "id": "e62477a2",
   "metadata": {},
   "outputs": [
    {
     "data": {
      "text/html": [
       "<b>Validation Data Confusion Matrix</b>"
      ],
      "text/plain": [
       "<IPython.core.display.HTML object>"
      ]
     },
     "metadata": {},
     "output_type": "display_data"
    },
    {
     "data": {
      "text/html": [
       "<div>\n",
       "<style scoped>\n",
       "    .dataframe tbody tr th:only-of-type {\n",
       "        vertical-align: middle;\n",
       "    }\n",
       "\n",
       "    .dataframe tbody tr th {\n",
       "        vertical-align: top;\n",
       "    }\n",
       "\n",
       "    .dataframe thead th {\n",
       "        text-align: right;\n",
       "    }\n",
       "</style>\n",
       "<table border=\"1\" class=\"dataframe\">\n",
       "  <thead>\n",
       "    <tr style=\"text-align: right;\">\n",
       "      <th></th>\n",
       "      <th>Predicted Not Instance</th>\n",
       "      <th>Predicted Instance</th>\n",
       "    </tr>\n",
       "  </thead>\n",
       "  <tbody>\n",
       "    <tr>\n",
       "      <th>Actual Not Instance</th>\n",
       "      <td>55</td>\n",
       "      <td>17</td>\n",
       "    </tr>\n",
       "    <tr>\n",
       "      <th>Actual Instance</th>\n",
       "      <td>19</td>\n",
       "      <td>38</td>\n",
       "    </tr>\n",
       "  </tbody>\n",
       "</table>\n",
       "</div>"
      ],
      "text/plain": [
       "                     Predicted Not Instance  Predicted Instance\n",
       "Actual Not Instance                      55                  17\n",
       "Actual Instance                          19                  38"
      ]
     },
     "execution_count": 12,
     "metadata": {},
     "output_type": "execute_result"
    }
   ],
   "source": [
    "display(HTML('<b>Validation Data Confusion Matrix</b>'))\n",
    "create_confusion_mat(test_text, test_labels, model_cv)"
   ]
  },
  {
   "cell_type": "code",
   "execution_count": 13,
   "id": "0852ebd3",
   "metadata": {},
   "outputs": [
    {
     "data": {
      "text/html": [
       "<b>Testing Data Confusion Matrix</b>"
      ],
      "text/plain": [
       "<IPython.core.display.HTML object>"
      ]
     },
     "metadata": {},
     "output_type": "display_data"
    },
    {
     "data": {
      "text/html": [
       "<div>\n",
       "<style scoped>\n",
       "    .dataframe tbody tr th:only-of-type {\n",
       "        vertical-align: middle;\n",
       "    }\n",
       "\n",
       "    .dataframe tbody tr th {\n",
       "        vertical-align: top;\n",
       "    }\n",
       "\n",
       "    .dataframe thead th {\n",
       "        text-align: right;\n",
       "    }\n",
       "</style>\n",
       "<table border=\"1\" class=\"dataframe\">\n",
       "  <thead>\n",
       "    <tr style=\"text-align: right;\">\n",
       "      <th></th>\n",
       "      <th>Predicted Not Instance</th>\n",
       "      <th>Predicted Instance</th>\n",
       "    </tr>\n",
       "  </thead>\n",
       "  <tbody>\n",
       "    <tr>\n",
       "      <th>Actual Not Instance</th>\n",
       "      <td>56</td>\n",
       "      <td>16</td>\n",
       "    </tr>\n",
       "    <tr>\n",
       "      <th>Actual Instance</th>\n",
       "      <td>12</td>\n",
       "      <td>45</td>\n",
       "    </tr>\n",
       "  </tbody>\n",
       "</table>\n",
       "</div>"
      ],
      "text/plain": [
       "                     Predicted Not Instance  Predicted Instance\n",
       "Actual Not Instance                      56                  16\n",
       "Actual Instance                          12                  45"
      ]
     },
     "execution_count": 13,
     "metadata": {},
     "output_type": "execute_result"
    }
   ],
   "source": [
    "display(HTML('<b>Testing Data Confusion Matrix</b>'))\n",
    "create_confusion_mat(truth_text, truth_labels, model_cv)"
   ]
  },
  {
   "cell_type": "markdown",
   "id": "d433e606",
   "metadata": {},
   "source": [
    "## Predicting on the Web"
   ]
  },
  {
   "cell_type": "code",
   "execution_count": 14,
   "id": "203a254a",
   "metadata": {},
   "outputs": [],
   "source": [
    "def answer(url, tol):\n",
    "    \n",
    "    hdr = {'User-Agent': 'Mozilla/5.0'}\n",
    "    req = urllib2.Request(url, headers = hdr)\n",
    "    page = urllib2.urlopen(req)\n",
    "    soup = BeautifulSoup(page, \"html.parser\")\n",
    "    \n",
    "    paragraphs_web = soup.findAll(\"p\")\n",
    "    paragraphs_web = [p.text for p in paragraphs_web]\n",
    "    \n",
    "    response = []\n",
    "\n",
    "    for p in paragraphs_web:\n",
    "        sentences = [s for s in nltk.sent_tokenize(p)]\n",
    "        sentences_cleaned = [clean_text(s) for s in sentences]\n",
    "\n",
    "        pred = [(model_cv.predict(s)[0][0][len(\"__label__\"):] == 'instance', model_cv.predict(s)[1][0]) for s in sentences_cleaned]\n",
    "        labels = [\"I\" if label and score > tol else \"N\" for label, score in pred]\n",
    "        \n",
    "        chunk_idxs = [(m.start(0), m.end(0)) for m in re.finditer(\"III*\", \"\".join(labels))]\n",
    "        \n",
    "        chunks = []\n",
    "        for start, end in chunk_idxs:\n",
    "            if start == end:\n",
    "                continue\n",
    "            chunks.append(sentences[start:end])\n",
    "        \n",
    "        if len(chunks) > 0:\n",
    "            chunk_text = [\" \".join(c) for c in chunks]\n",
    "            response.append(\" \".join(chunk_text))\n",
    "    \n",
    "        \n",
    "    return \"\\n\\n\".join(response)"
   ]
  },
  {
   "cell_type": "code",
   "execution_count": 21,
   "id": "77a2d421",
   "metadata": {},
   "outputs": [
    {
     "name": "stdout",
     "output_type": "stream",
     "text": [
      "An artificial neural network (ANN) has hidden layers which are used to respond to more complicated tasks than the earlier perceptrons could. ANNs are a primary tool used for machine learning.\n",
      "\n",
      "The industry goal shifted from training for artificial intelligence to solving practical problems in terms of providing services. Its focus shifted from the approaches inherited from AI research to methods and tactics used in probability theory and statistics.\n",
      "\n",
      "3D face scans, iris images, and high-resolution face images were tested. Their findings suggested the new algorithms were ten times more accurate than the facial recognition algorithms from 2002 and 100 times more accurate than those from 1995.\n",
      "\n",
      "Google is currently experimenting with machine learning using an approach called instruction fine-tuning. The goal is to train an ML model  to resolve natural language processing issues in a generalized way.\n"
     ]
    }
   ],
   "source": [
    "print(answer(\"https://www.dataversity.net/a-brief-history-of-machine-learning/\", 0.9))"
   ]
  },
  {
   "cell_type": "code",
   "execution_count": 25,
   "id": "e9272d36",
   "metadata": {},
   "outputs": [
    {
     "name": "stdout",
     "output_type": "stream",
     "text": [
      "It’s all well and good to ask if androids dream of electric sheep, but science fact has evolved to a point where it’s beginning to coincide with science fiction. No, we don’t have autonomous androids struggling with existential crises — yet — but we are getting ever closer to what people tend to call “artificial intelligence.”\n",
      "\n",
      "1967 — The “nearest neighbor” algorithm was written, allowing computers to begin using very basic pattern recognition. This could be used to map a route for traveling salesmen, starting at a random city but ensuring they visit all cities during a short tour.\n",
      "\n",
      "2016 – Google’s artificial intelligence algorithm beats a professional player at the Chinese board game Go, which is considered the world’s most complex board game and is many times harder than chess. The AlphaGo algorithm developed by Google DeepMind managed to win five games out of five in the Go competition.\n"
     ]
    }
   ],
   "source": [
    "print(answer(\"https://www.forbes.com/sites/bernardmarr/2016/02/19/a-short-history-of-machine-learning-every-manager-should-read/?sh=2474976115e7\", 0.7))"
   ]
  },
  {
   "cell_type": "code",
   "execution_count": 26,
   "id": "5a04b172",
   "metadata": {},
   "outputs": [
    {
     "name": "stdout",
     "output_type": "stream",
     "text": [
      "In order to pass the test, the computer needs to be able to convince a human to believe that it’s another human. Apart from a computer program simulating a 13-year-old Ukrainian boy who is said to have passed the Turing test, there were no other successful attempts so far.\n",
      "\n",
      "Today, the nearest neighbor algorithm called KNN is mostly used to classify a data point on the basis of how their neighbors are classified. KNN is used in retail applications that recognize patterns in credit card usage or for theft prevention when implemented in CCTV image recognition in retail stores.\n",
      "\n",
      "2010 – this year saw the introduction of Microsoft Kinect that could track even 20 human features at the rate of 30 times per second. Microsoft Kinect allowed users to interact with machines via gestures and movements.\n",
      "\n",
      "We are excited to build relationships with people who want to change the world. Contact us:\n"
     ]
    }
   ],
   "source": [
    "print(answer(\"https://concisesoftware.com/history-of-machine-learning/\", 0.8))"
   ]
  }
 ],
 "metadata": {
  "kernelspec": {
   "display_name": "Python 3 (ipykernel)",
   "language": "python",
   "name": "python3"
  },
  "language_info": {
   "codemirror_mode": {
    "name": "ipython",
    "version": 3
   },
   "file_extension": ".py",
   "mimetype": "text/x-python",
   "name": "python",
   "nbconvert_exporter": "python",
   "pygments_lexer": "ipython3",
   "version": "3.8.12"
  }
 },
 "nbformat": 4,
 "nbformat_minor": 5
}
