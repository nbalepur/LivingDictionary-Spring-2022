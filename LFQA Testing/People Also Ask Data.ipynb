{
 "cells": [
  {
   "cell_type": "code",
   "execution_count": 86,
   "id": "499d5600",
   "metadata": {},
   "outputs": [],
   "source": [
    "from selenium.common.exceptions import NoSuchElementException    \n",
    "from selenium.webdriver.chrome.options import Options\n",
    "from selenium import webdriver\n",
    "from bs4 import BeautifulSoup\n",
    "import datetime\n",
    "import time\n",
    "import os\n",
    "import pandas as pd\n",
    "import nltk\n",
    "\n",
    "def returnChromeDriver(pathToChromeDriver):\n",
    "    chrome_options = Options()\n",
    "    chrome_options.add_experimental_option( \"prefs\",{'profile.managed_default_content_settings.javascript': 1, 'profile.managed_default_content_settings.images': 1, 'profile.managed_default_content_settings.stylesheet': 2} )\n",
    "    chromedriver = pathToChromeDriver\n",
    "    userAgent = \"Mozilla/5.0 (Linux; Android 4.2.1; en-us; Nexus 5 Build/JOP40D) AppleWebKit/535.19 (KHTML, like Gecko) Chrome/18.0.1025.166 Mobile Safari/535.19\"\n",
    "    os.environ[\"webdriver.chrome.driver\"] = chromedriver\n",
    "    driver = webdriver.Chrome(chromedriver, chrome_options = chrome_options)\n",
    "    driver.maximize_window()\n",
    "    return driver\n",
    "\n",
    "def returnSearchUrl(question):\n",
    "    baseGoogleQuery = \"https://www.google.com/search?q=\"\n",
    "    searchUrl = baseGoogleQuery + question.lower().replace(\" \", \"+\").replace(\"?\", \"%3F\").replace(\"'\", \"%27\")\n",
    "    return searchUrl\n",
    "\n",
    "def clickQuestions(driver, question, totalClicks):\n",
    "    searchUrl = returnSearchUrl(question)\n",
    "    driver.get(searchUrl)\n",
    "    time.sleep(1)\n",
    "\n",
    "    if driver.find_elements_by_css_selector('div.related-question-pair'):\n",
    "        questionIndex = 0\n",
    "        questions = driver.find_elements_by_css_selector('div.related-question-pair')\n",
    "        \n",
    "        itr = 0\n",
    "        \n",
    "        while itr < totalClicks:\n",
    "            \n",
    "            questions[itr].click()\n",
    "            time.sleep(1)\n",
    "            questions = driver.find_elements_by_css_selector('div.related-question-pair')\n",
    "            itr += 1\n",
    "\n",
    "    return driver\n",
    "\n",
    "def extractQuestionData(soup):\n",
    "    question_data = []\n",
    "    \n",
    "    for question in soup.findAll(\"div\", class_=\"related-question-pair\"):\n",
    "        \n",
    "        answers = question.find_all(\"div\", id = lambda value: value and value.startswith(\"WEB_ANSWERS_RESULT\"))\n",
    "        for answer in answers:\n",
    "            if answer.find(\"span\") and answer.find(\"span\").find(\"span\"):\n",
    "                a = answer.find(\"span\").find(\"span\")\n",
    "                question_data.append((question.find(\"div\")[\"data-q\"], str(a)[str(a).find(\">\") + 1:str(a).rfind(\"<\")], a.text))\n",
    "                \n",
    "    return question_data\n",
    "\n",
    "\n",
    "def get_answers(questions, num_questions = 10, pathToChromeDriver = \"C:/Users/Nishant/chromedriver/chromedriver\"):\n",
    "    \n",
    "    driver = returnChromeDriver(pathToChromeDriver)\n",
    "    \n",
    "    all_data = []\n",
    "    \n",
    "    for question in questions:\n",
    "        \n",
    "        try:\n",
    "        \n",
    "            driver = clickQuestions(driver, question, num_questions)\n",
    "            if driver.find_elements_by_css_selector('div.related-question-pair'):\n",
    "                soup = BeautifulSoup(driver.page_source, \"lxml\")\n",
    "                extractedData = extractQuestionData(soup)\n",
    "\n",
    "                all_data.extend(extractedData)\n",
    "\n",
    "            else:\n",
    "                print(\"No Questions Found For: \" + question)\n",
    "                \n",
    "        except:\n",
    "            asdf = 1\n",
    "            \n",
    "    return all_data\n",
    "\n",
    "    driver.quit()"
   ]
  },
  {
   "cell_type": "code",
   "execution_count": 76,
   "id": "cadcc3a8",
   "metadata": {},
   "outputs": [],
   "source": [
    "df = pd.read_csv(\"Keywords.csv\")\n",
    "keywords = df[\"machine learning\"]\n",
    "pos_questions = [f\"What is the history of {kw}?\" for kw in keywords[:50]]"
   ]
  },
  {
   "cell_type": "code",
   "execution_count": 77,
   "id": "733fb4df",
   "metadata": {},
   "outputs": [
    {
     "name": "stderr",
     "output_type": "stream",
     "text": [
      "C:\\Users\\Nishant\\AppData\\Local\\Temp\\ipykernel_3148\\2396248721.py:16: DeprecationWarning: executable_path has been deprecated, please pass in a Service object\n",
      "  driver = webdriver.Chrome(chromedriver, chrome_options = chrome_options)\n",
      "C:\\Users\\Nishant\\AppData\\Local\\Temp\\ipykernel_3148\\2396248721.py:16: DeprecationWarning: use options instead of chrome_options\n",
      "  driver = webdriver.Chrome(chromedriver, chrome_options = chrome_options)\n",
      "C:\\Users\\Nishant\\AppData\\Local\\Temp\\ipykernel_3148\\2396248721.py:30: DeprecationWarning: find_elements_by_css_selector is deprecated. Please use find_elements(by=By.CSS_SELECTOR, value=css_selector) instead\n",
      "  if driver.find_elements_by_css_selector('div.related-question-pair'):\n",
      "C:\\Users\\Nishant\\AppData\\Local\\Temp\\ipykernel_3148\\2396248721.py:32: DeprecationWarning: find_elements_by_css_selector is deprecated. Please use find_elements(by=By.CSS_SELECTOR, value=css_selector) instead\n",
      "  questions = driver.find_elements_by_css_selector('div.related-question-pair')\n",
      "C:\\Users\\Nishant\\AppData\\Local\\Temp\\ipykernel_3148\\2396248721.py:40: DeprecationWarning: find_elements_by_css_selector is deprecated. Please use find_elements(by=By.CSS_SELECTOR, value=css_selector) instead\n",
      "  questions = driver.find_elements_by_css_selector('div.related-question-pair')\n",
      "C:\\Users\\Nishant\\AppData\\Local\\Temp\\ipykernel_3148\\2396248721.py:70: DeprecationWarning: find_elements_by_css_selector is deprecated. Please use find_elements(by=By.CSS_SELECTOR, value=css_selector) instead\n",
      "  if driver.find_elements_by_css_selector('div.related-question-pair'):\n"
     ]
    }
   ],
   "source": [
    "res = get_answers(question_inputs, 5)"
   ]
  },
  {
   "cell_type": "code",
   "execution_count": 80,
   "id": "dfd785f3",
   "metadata": {},
   "outputs": [],
   "source": [
    "pos_data = res"
   ]
  },
  {
   "cell_type": "code",
   "execution_count": 82,
   "id": "b12dac96",
   "metadata": {},
   "outputs": [],
   "source": [
    "neg_questions = [f\"What is {kw}?\" for kw in keywords[:50]]"
   ]
  },
  {
   "cell_type": "code",
   "execution_count": 83,
   "id": "d9f24606",
   "metadata": {},
   "outputs": [
    {
     "name": "stderr",
     "output_type": "stream",
     "text": [
      "C:\\Users\\Nishant\\AppData\\Local\\Temp\\ipykernel_3148\\2396248721.py:16: DeprecationWarning: executable_path has been deprecated, please pass in a Service object\n",
      "  driver = webdriver.Chrome(chromedriver, chrome_options = chrome_options)\n",
      "C:\\Users\\Nishant\\AppData\\Local\\Temp\\ipykernel_3148\\2396248721.py:16: DeprecationWarning: use options instead of chrome_options\n",
      "  driver = webdriver.Chrome(chromedriver, chrome_options = chrome_options)\n",
      "C:\\Users\\Nishant\\AppData\\Local\\Temp\\ipykernel_3148\\2396248721.py:30: DeprecationWarning: find_elements_by_css_selector is deprecated. Please use find_elements(by=By.CSS_SELECTOR, value=css_selector) instead\n",
      "  if driver.find_elements_by_css_selector('div.related-question-pair'):\n",
      "C:\\Users\\Nishant\\AppData\\Local\\Temp\\ipykernel_3148\\2396248721.py:32: DeprecationWarning: find_elements_by_css_selector is deprecated. Please use find_elements(by=By.CSS_SELECTOR, value=css_selector) instead\n",
      "  questions = driver.find_elements_by_css_selector('div.related-question-pair')\n",
      "C:\\Users\\Nishant\\AppData\\Local\\Temp\\ipykernel_3148\\2396248721.py:40: DeprecationWarning: find_elements_by_css_selector is deprecated. Please use find_elements(by=By.CSS_SELECTOR, value=css_selector) instead\n",
      "  questions = driver.find_elements_by_css_selector('div.related-question-pair')\n",
      "C:\\Users\\Nishant\\AppData\\Local\\Temp\\ipykernel_3148\\2396248721.py:70: DeprecationWarning: find_elements_by_css_selector is deprecated. Please use find_elements(by=By.CSS_SELECTOR, value=css_selector) instead\n",
      "  if driver.find_elements_by_css_selector('div.related-question-pair'):\n"
     ]
    }
   ],
   "source": [
    "neg_data = get_answers(neg_questions, 5)"
   ]
  },
  {
   "cell_type": "code",
   "execution_count": 109,
   "id": "a6dce4fa",
   "metadata": {},
   "outputs": [],
   "source": [
    "data = []\n",
    "\n",
    "for q, answer_html, answer_text in pos_data:\n",
    "    if \"machine learning\" in q.lower():\n",
    "        continue\n",
    "    \n",
    "    sentences_html = nltk.sent_tokenize(answer_html)\n",
    "    sentences_text = nltk.sent_tokenize(answer_text)\n",
    "    \n",
    "    q_lower = q.lower()\n",
    "    \n",
    "    tags = [\"history\", \"invent\", \"who\", \"where\", \"first\", \"past\", \"future\", \"father\", \"when\", \"origin\", \"found\", \"oldest\", \"newest\", \"start\"]\n",
    "    is_instance = False\n",
    "    for tag in tags:\n",
    "        if tag in q_lower:\n",
    "            is_instance = True\n",
    "            break\n",
    "    \n",
    "    for i in range(min(len(sentences_html), len(sentences_text))):\n",
    "        if \"<b>\" in sentences_html[i]:\n",
    "            data.append((sentences_text[i], is_instance))"
   ]
  },
  {
   "cell_type": "code",
   "execution_count": 115,
   "id": "6b0cb9ec",
   "metadata": {},
   "outputs": [],
   "source": [
    "inst_df = pd.DataFrame(data, columns = [\"sentence\", \"is_instance\"])\n",
    "inst_df.to_csv(\"people_ask.csv\")"
   ]
  },
  {
   "cell_type": "code",
   "execution_count": 117,
   "id": "5839fab8",
   "metadata": {},
   "outputs": [
    {
     "data": {
      "text/html": [
       "<div>\n",
       "<style scoped>\n",
       "    .dataframe tbody tr th:only-of-type {\n",
       "        vertical-align: middle;\n",
       "    }\n",
       "\n",
       "    .dataframe tbody tr th {\n",
       "        vertical-align: top;\n",
       "    }\n",
       "\n",
       "    .dataframe thead th {\n",
       "        text-align: right;\n",
       "    }\n",
       "</style>\n",
       "<table border=\"1\" class=\"dataframe\">\n",
       "  <thead>\n",
       "    <tr style=\"text-align: right;\">\n",
       "      <th></th>\n",
       "      <th>sentence</th>\n",
       "      <th>is_instance</th>\n",
       "    </tr>\n",
       "  </thead>\n",
       "  <tbody>\n",
       "    <tr>\n",
       "      <th>476</th>\n",
       "      <td>When Business Process Management (BPM) emerged...</td>\n",
       "      <td>True</td>\n",
       "    </tr>\n",
       "    <tr>\n",
       "      <th>159</th>\n",
       "      <td>Univariate feature selection works by selectin...</td>\n",
       "      <td>False</td>\n",
       "    </tr>\n",
       "    <tr>\n",
       "      <th>354</th>\n",
       "      <td>Augmented reality (AR) is an experience where ...</td>\n",
       "      <td>False</td>\n",
       "    </tr>\n",
       "    <tr>\n",
       "      <th>636</th>\n",
       "      <td>ohn McCarthy, father of artificial intelligenc...</td>\n",
       "      <td>True</td>\n",
       "    </tr>\n",
       "    <tr>\n",
       "      <th>44</th>\n",
       "      <td>Data mining began in the 1990s and is the proc...</td>\n",
       "      <td>True</td>\n",
       "    </tr>\n",
       "  </tbody>\n",
       "</table>\n",
       "</div>"
      ],
      "text/plain": [
       "                                              sentence  is_instance\n",
       "476  When Business Process Management (BPM) emerged...         True\n",
       "159  Univariate feature selection works by selectin...        False\n",
       "354  Augmented reality (AR) is an experience where ...        False\n",
       "636  ohn McCarthy, father of artificial intelligenc...         True\n",
       "44   Data mining began in the 1990s and is the proc...         True"
      ]
     },
     "execution_count": 117,
     "metadata": {},
     "output_type": "execute_result"
    }
   ],
   "source": [
    "inst_df.sample(n = 5)"
   ]
  }
 ],
 "metadata": {
  "kernelspec": {
   "display_name": "Python 3 (ipykernel)",
   "language": "python",
   "name": "python3"
  },
  "language_info": {
   "codemirror_mode": {
    "name": "ipython",
    "version": 3
   },
   "file_extension": ".py",
   "mimetype": "text/x-python",
   "name": "python",
   "nbconvert_exporter": "python",
   "pygments_lexer": "ipython3",
   "version": "3.8.12"
  }
 },
 "nbformat": 4,
 "nbformat_minor": 5
}
