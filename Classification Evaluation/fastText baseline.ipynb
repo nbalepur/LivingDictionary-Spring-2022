{
 "cells": [
  {
   "cell_type": "code",
   "execution_count": 1,
   "id": "1142524d",
   "metadata": {},
   "outputs": [],
   "source": [
    "import pickle\n",
    "import wikipediaapi\n",
    "\n",
    "import nltk\n",
    "from nltk.corpus import stopwords\n",
    "import wikipediaapi\n",
    "from nltk.tokenize import RegexpTokenizer\n",
    "import re\n",
    "from bs4 import BeautifulSoup\n",
    "import re\n",
    "\n",
    "from sklearn.model_selection import train_test_split\n",
    "import numpy as np\n",
    "import pandas as pd\n",
    "\n",
    "import fasttext\n",
    "\n",
    "ps = nltk.stem.porter.PorterStemmer()"
   ]
  },
  {
   "cell_type": "code",
   "execution_count": 2,
   "id": "cd4a639c",
   "metadata": {},
   "outputs": [],
   "source": [
    "from gensim.models.doc2vec import Doc2Vec, TaggedDocument\n",
    "from sklearn.neighbors import KNeighborsClassifier"
   ]
  },
  {
   "cell_type": "code",
   "execution_count": 3,
   "id": "020eee26",
   "metadata": {},
   "outputs": [],
   "source": [
    "section = \"history\""
   ]
  },
  {
   "cell_type": "code",
   "execution_count": 4,
   "id": "7ac3f679",
   "metadata": {},
   "outputs": [],
   "source": [
    "with open('../Instance Classification/section_dict.pkl', 'rb') as f:\n",
    "    section_dict = pickle.load(f)"
   ]
  },
  {
   "cell_type": "markdown",
   "id": "9006ca91",
   "metadata": {},
   "source": [
    "## Creating Training Data"
   ]
  },
  {
   "cell_type": "code",
   "execution_count": 5,
   "id": "baf64c2f",
   "metadata": {},
   "outputs": [],
   "source": [
    "wiki_wiki = wikipediaapi.Wikipedia('en', extract_format = wikipediaapi.ExtractFormat.HTML)\n",
    "section_titles, related_keywords = section_dict[ps.stem(section)]"
   ]
  },
  {
   "cell_type": "code",
   "execution_count": 6,
   "id": "e0568875",
   "metadata": {},
   "outputs": [
    {
     "name": "stdout",
     "output_type": "stream",
     "text": [
      "0 epilepsy\n",
      "100 backpropagation\n",
      "200 Algorithmic bias\n",
      "300 business process modelling\n",
      "400 composition\n",
      "500 causality\n",
      "600 self-organization\n",
      "700 expert systems\n"
     ]
    }
   ],
   "source": [
    "data_raw = []\n",
    "documents = []\n",
    "itr = [0]\n",
    "\n",
    "def get_data(data_raw, documents, kw, section, itr):\n",
    "\n",
    "    try:\n",
    "    \n",
    "        page = wiki_wiki.page(kw)\n",
    "        kw_data = []\n",
    "\n",
    "        for section_ in page.sections:\n",
    "            title, content = section_.title, section_.text\n",
    "            soup = BeautifulSoup(content, \"html.parser\")\n",
    "\n",
    "            for p in soup.findAll(\"p\"):\n",
    "                p_text = p.text\n",
    "\n",
    "                documents.append(TaggedDocument(p_text.lower(), [itr[0]]))\n",
    "                itr[0] += 1\n",
    "\n",
    "                for s in nltk.sent_tokenize(p_text):\n",
    "                    kw_data.append((kw, s, (ps.stem(title) == ps.stem(section))))\n",
    "\n",
    "        data_raw.extend(kw_data)\n",
    "\n",
    "    except:\n",
    "        \n",
    "        get_data(data_raw, documents, kw, section, itr)\n",
    "\n",
    "for i, kw in enumerate(related_keywords):\n",
    "    \n",
    "    if i % 100 == 0:\n",
    "        print(i, kw)\n",
    "\n",
    "    get_data(data_raw, documents, kw, section, itr)"
   ]
  },
  {
   "cell_type": "code",
   "execution_count": 7,
   "id": "f6cbae73",
   "metadata": {},
   "outputs": [],
   "source": [
    "df = pd.DataFrame(data_raw, columns = [\"keyword\", \"sentences\", \"label\"])"
   ]
  },
  {
   "cell_type": "code",
   "execution_count": 8,
   "id": "75ba9afb",
   "metadata": {},
   "outputs": [],
   "source": [
    "data = pd.DataFrame(columns = df.columns)\n",
    "for kw in related_keywords:\n",
    "    df_subset = df[df[\"keyword\"] == kw]\n",
    "    \n",
    "    pos_data = df_subset[df_subset[\"label\"] != False]\n",
    "    neg_data = df_subset[df_subset[\"label\"] == False]\n",
    "    \n",
    "    num_pos, num_neg = len(pos_data), len(neg_data)\n",
    "    \n",
    "    if num_pos >= num_neg:\n",
    "        data = pd.concat((data, pos_data, neg_data), axis = 0)\n",
    "    else:\n",
    "        data = pd.concat((data, pos_data, neg_data.sample(n = num_pos)), axis = 0)"
   ]
  },
  {
   "cell_type": "markdown",
   "id": "b5ade7ef",
   "metadata": {},
   "source": [
    "## Training fastText"
   ]
  },
  {
   "cell_type": "code",
   "execution_count": 9,
   "id": "2c9c688d",
   "metadata": {},
   "outputs": [],
   "source": [
    "def clean_text(text):\n",
    "    cleaned_text = re.sub(r'[^A-Za-z0-9 ]+', '', text)\n",
    "    return cleaned_text.lower()\n",
    "    \n",
    "def clean_instances(data):\n",
    "    instances = data[\"sentences\"]\n",
    "    cleaned_instances = [clean_text(inst) for inst in instances]\n",
    "    \n",
    "    df_new = pd.DataFrame(columns = data.columns)\n",
    "    df_new[data.columns] = data[data.columns]\n",
    "    df_new[\"sentences\"] = cleaned_instances\n",
    "    \n",
    "    return df_new\n",
    "    \n",
    "\n",
    "data_clean = clean_instances(data)\n",
    "\n",
    "train_text, test_text, train_labels, test_labels = train_test_split(data_clean[\"sentences\"], data_clean[\"label\"], test_size = 0.2)\n",
    "\n",
    "train_text, test_text, np.array(train_text.to_numpy()), np.array(test_text.to_numpy())\n",
    "train_labels, test_labels = np.array(train_labels), np.array(test_labels)"
   ]
  },
  {
   "cell_type": "code",
   "execution_count": 10,
   "id": "d0004e42",
   "metadata": {},
   "outputs": [],
   "source": [
    "fasttext_data_train = [f\"__label__{str(train_labels[i])} {train_text.to_numpy()[i]}\" for i in range(len(train_labels))]\n",
    "fasttext_data_test = [f\"__label__{str(test_labels[i])} {test_text.to_numpy()[i]}\" for i in range(len(test_labels))]\n",
    "\n",
    "train_file = open(\"model.train\", \"w+\")\n",
    "test_file = open(\"model.valid\", \"w+\")\n",
    "\n",
    "train_file.write(\"\\n\".join(fasttext_data_train))\n",
    "test_file.write(\"\\n\".join(fasttext_data_test))\n",
    "\n",
    "train_file.close()\n",
    "test_file.close()"
   ]
  },
  {
   "cell_type": "code",
   "execution_count": 11,
   "id": "ab805a02",
   "metadata": {},
   "outputs": [],
   "source": [
    "cv_data = []\n",
    "\n",
    "for lr in np.arange(0, 1, 0.05):\n",
    "    row = []\n",
    "    for epochs in range(5, 35, 5):\n",
    "        model_cv = fasttext.train_supervised(input = \"model.train\", lr = lr, epoch = epochs)\n",
    "        p = model_cv.test(\"model.valid\")[1]\n",
    "        row.append(p)\n",
    "    cv_data.append(row)"
   ]
  },
  {
   "cell_type": "code",
   "execution_count": 12,
   "id": "5cac59c5",
   "metadata": {},
   "outputs": [
    {
     "name": "stdout",
     "output_type": "stream",
     "text": [
      "Best Learning Rate: 0.15000000000000002\n",
      "Best Number of Epochs: 20\n",
      "Max Precision/Recall: 0.8372932330827068\n"
     ]
    }
   ],
   "source": [
    "max_idx = np.unravel_index(np.array(cv_data).argmax(), np.array(cv_data).shape)\n",
    "best_learning_rate = np.arange(0, 1, 0.05)[max_idx[0]]\n",
    "best_epochs = np.arange(5, 35, 5)[max_idx[1]]\n",
    "max_p = cv_data[max_idx[0]][max_idx[1]]\n",
    "\n",
    "print(f\"Best Learning Rate: {best_learning_rate}\\nBest Number of Epochs: {best_epochs}\\nMax Precision/Recall: {max_p}\")"
   ]
  },
  {
   "cell_type": "code",
   "execution_count": 13,
   "id": "935c1906",
   "metadata": {},
   "outputs": [],
   "source": [
    "model_cv = fasttext.train_supervised(input = \"model.train\", lr = best_learning_rate, epoch = best_epochs)\n",
    "n1, p1, r1 = model_cv.test(\"model.train\")\n",
    "n2, p2, r2 = model_cv.test(\"model.valid\")"
   ]
  },
  {
   "cell_type": "code",
   "execution_count": 14,
   "id": "301e03e1",
   "metadata": {},
   "outputs": [
    {
     "name": "stdout",
     "output_type": "stream",
     "text": [
      "13300 0.9978947368421053 0.9978947368421053\n",
      "3325 0.8330827067669173 0.8330827067669173\n"
     ]
    }
   ],
   "source": [
    "print(n1, p1, r1)\n",
    "print(n2, p2, r2)"
   ]
  }
 ],
 "metadata": {
  "kernelspec": {
   "display_name": "Python 3 (ipykernel)",
   "language": "python",
   "name": "python3"
  },
  "language_info": {
   "codemirror_mode": {
    "name": "ipython",
    "version": 3
   },
   "file_extension": ".py",
   "mimetype": "text/x-python",
   "name": "python",
   "nbconvert_exporter": "python",
   "pygments_lexer": "ipython3",
   "version": "3.8.12"
  }
 },
 "nbformat": 4,
 "nbformat_minor": 5
}
