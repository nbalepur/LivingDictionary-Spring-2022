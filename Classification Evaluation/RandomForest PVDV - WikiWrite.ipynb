{
 "cells": [
  {
   "cell_type": "code",
   "execution_count": 1,
   "id": "1142524d",
   "metadata": {},
   "outputs": [],
   "source": [
    "import pickle\n",
    "import wikipediaapi\n",
    "\n",
    "import nltk\n",
    "from nltk.corpus import stopwords\n",
    "import wikipediaapi\n",
    "from nltk.tokenize import RegexpTokenizer\n",
    "import re\n",
    "from bs4 import BeautifulSoup\n",
    "import re\n",
    "\n",
    "from sklearn.model_selection import train_test_split\n",
    "import numpy as np\n",
    "import pandas as pd\n",
    "\n",
    "ps = nltk.stem.porter.PorterStemmer()"
   ]
  },
  {
   "cell_type": "code",
   "execution_count": 2,
   "id": "cd4a639c",
   "metadata": {},
   "outputs": [],
   "source": [
    "from gensim.models.doc2vec import Doc2Vec, TaggedDocument\n",
    "from sklearn.ensemble import RandomForestClassifier"
   ]
  },
  {
   "cell_type": "code",
   "execution_count": 3,
   "id": "020eee26",
   "metadata": {},
   "outputs": [],
   "source": [
    "section = \"definition\""
   ]
  },
  {
   "cell_type": "code",
   "execution_count": 4,
   "id": "7ac3f679",
   "metadata": {},
   "outputs": [],
   "source": [
    "with open('../Instance Classification/section_dict.pkl', 'rb') as f:\n",
    "    section_dict = pickle.load(f)"
   ]
  },
  {
   "cell_type": "markdown",
   "id": "9006ca91",
   "metadata": {},
   "source": [
    "## Creating Training Data"
   ]
  },
  {
   "cell_type": "code",
   "execution_count": 5,
   "id": "baf64c2f",
   "metadata": {},
   "outputs": [],
   "source": [
    "wiki_wiki = wikipediaapi.Wikipedia('en', extract_format = wikipediaapi.ExtractFormat.HTML)\n",
    "section_titles, related_keywords = section_dict[ps.stem(section)]"
   ]
  },
  {
   "cell_type": "code",
   "execution_count": 6,
   "id": "e0568875",
   "metadata": {},
   "outputs": [
    {
     "name": "stdout",
     "output_type": "stream",
     "text": [
      "0 generalization error\n",
      "100 convolutional neural network\n",
      "200 fuzzy set\n"
     ]
    }
   ],
   "source": [
    "data_raw = []\n",
    "documents = []\n",
    "itr = [0]\n",
    "\n",
    "def get_data(data_raw, documents, kw, section, itr):\n",
    "\n",
    "    try:\n",
    "    \n",
    "        page = wiki_wiki.page(kw)\n",
    "        kw_data = []\n",
    "\n",
    "        for section_ in page.sections:\n",
    "            title, content = section_.title, section_.text\n",
    "            soup = BeautifulSoup(content, \"html.parser\")\n",
    "\n",
    "            for p in soup.findAll(\"p\"):\n",
    "                p_text = p.text\n",
    "\n",
    "                documents.append(TaggedDocument(p_text.lower(), [itr[0]]))\n",
    "                itr[0] += 1\n",
    "\n",
    "                for s in nltk.sent_tokenize(p_text):\n",
    "                    kw_data.append((kw, s, (ps.stem(title) == ps.stem(section))))\n",
    "\n",
    "        data_raw.extend(kw_data)\n",
    "\n",
    "    except:\n",
    "        \n",
    "        get_data(data_raw, documents, kw, section, itr)\n",
    "\n",
    "for i, kw in enumerate(related_keywords):\n",
    "    \n",
    "    if i % 100 == 0:\n",
    "        print(i, kw)\n",
    "\n",
    "    get_data(data_raw, documents, kw, section, itr)"
   ]
  },
  {
   "cell_type": "code",
   "execution_count": 7,
   "id": "f6cbae73",
   "metadata": {},
   "outputs": [],
   "source": [
    "df = pd.DataFrame(data_raw, columns = [\"keyword\", \"sentences\", \"label\"])"
   ]
  },
  {
   "cell_type": "code",
   "execution_count": 8,
   "id": "75ba9afb",
   "metadata": {},
   "outputs": [],
   "source": [
    "data = pd.DataFrame(columns = df.columns)\n",
    "for kw in related_keywords:\n",
    "    df_subset = df[df[\"keyword\"] == kw]\n",
    "    \n",
    "    pos_data = df_subset[df_subset[\"label\"] != False]\n",
    "    neg_data = df_subset[df_subset[\"label\"] == False]\n",
    "    \n",
    "    num_pos, num_neg = len(pos_data), len(neg_data)\n",
    "    \n",
    "    if num_pos >= num_neg:\n",
    "        data = pd.concat((data, pos_data, neg_data), axis = 0)\n",
    "    else:\n",
    "        data = pd.concat((data, pos_data, neg_data.sample(n = num_pos)), axis = 0)"
   ]
  },
  {
   "cell_type": "markdown",
   "id": "b5ade7ef",
   "metadata": {},
   "source": [
    "## Training Doc2Vec"
   ]
  },
  {
   "cell_type": "code",
   "execution_count": 9,
   "id": "d0004e42",
   "metadata": {},
   "outputs": [],
   "source": [
    "def clean_text(text):\n",
    "    cleaned_text = re.sub(r'[^A-Za-z0-9 ]+', '', text)\n",
    "    return cleaned_text.lower()\n",
    "    \n",
    "def clean_instances(data):\n",
    "    instances = data[\"sentences\"]\n",
    "    cleaned_instances = [clean_text(inst) for inst in instances]\n",
    "    \n",
    "    df_new = pd.DataFrame(columns = data.columns)\n",
    "    df_new[data.columns] = data[data.columns]\n",
    "    df_new[\"sentences\"] = cleaned_instances\n",
    "    \n",
    "    return df_new\n",
    "    \n",
    "\n",
    "data_clean = clean_instances(data)\n",
    "\n",
    "train_text, test_text, train_labels, test_labels = train_test_split(data_clean[\"sentences\"], data_clean[\"label\"], test_size = 0.2)\n",
    "\n",
    "train_text, test_text, np.array(train_text), np.array(test_text)\n",
    "train_labels, test_labels = np.array(train_labels), np.array(test_labels)"
   ]
  },
  {
   "cell_type": "code",
   "execution_count": 10,
   "id": "a593d273",
   "metadata": {},
   "outputs": [],
   "source": [
    "sent_tokens_train = []\n",
    "for i, s in enumerate(train_text):    \n",
    "    sent_tokens_train.append(nltk.tokenize.word_tokenize(s.lower()))\n",
    "    \n",
    "sent_tokens_test = []\n",
    "for i, s in enumerate(test_text):    \n",
    "    sent_tokens_test.append(nltk.tokenize.word_tokenize(s.lower()))"
   ]
  },
  {
   "cell_type": "code",
   "execution_count": 11,
   "id": "22781a12",
   "metadata": {},
   "outputs": [],
   "source": [
    "model = Doc2Vec(documents, vector_size = 100, window = 2, min_count = 1, workers = 4, epochs = 40)"
   ]
  },
  {
   "cell_type": "code",
   "execution_count": 12,
   "id": "a464e201",
   "metadata": {},
   "outputs": [],
   "source": [
    "sent_vector_train = []\n",
    "for tokens in sent_tokens_train:\n",
    "    sent_vector_train.append(model.infer_vector(tokens))\n",
    "sent_vector_train = np.array(sent_vector_train)\n",
    "\n",
    "sent_vector_test = []\n",
    "for tokens in sent_tokens_test:\n",
    "    sent_vector_test.append(model.infer_vector(tokens))\n",
    "sent_vector_test = np.array(sent_vector_test)"
   ]
  },
  {
   "cell_type": "code",
   "execution_count": 13,
   "id": "633ea787",
   "metadata": {},
   "outputs": [
    {
     "name": "stdout",
     "output_type": "stream",
     "text": [
      "Trying depth 5\n",
      "Trying depth 15\n",
      "Trying depth 25\n",
      "Trying depth 35\n",
      "Trying depth 45\n",
      "Best depth: 45\n"
     ]
    }
   ],
   "source": [
    "best_score = 0\n",
    "best_depth = 0\n",
    "\n",
    "for max_depth in np.arange(5, 55, 10):\n",
    "    \n",
    "    print(f\"Trying depth {max_depth}\")\n",
    "    \n",
    "    rf = RandomForestClassifier(n_estimators = 1000, max_depth = max_depth)\n",
    "    rf.fit(sent_vector_train, train_labels.astype(int))\n",
    "    \n",
    "    curr_score = rf.score(sent_vector_test, test_labels.astype(int))\n",
    "    if curr_score > best_score:\n",
    "        best_score = curr_score\n",
    "        best_depth = max_depth\n",
    "        \n",
    "print(f\"Best depth: {best_depth}\")"
   ]
  },
  {
   "cell_type": "code",
   "execution_count": 14,
   "id": "1c0ecc21",
   "metadata": {},
   "outputs": [
    {
     "data": {
      "text/plain": [
       "0.9997249724972497"
      ]
     },
     "execution_count": 14,
     "metadata": {},
     "output_type": "execute_result"
    }
   ],
   "source": [
    "rf.score(sent_vector_train, train_labels.astype(int))"
   ]
  },
  {
   "cell_type": "code",
   "execution_count": 15,
   "id": "96acef94",
   "metadata": {},
   "outputs": [
    {
     "data": {
      "text/plain": [
       "0.6083608360836084"
      ]
     },
     "execution_count": 15,
     "metadata": {},
     "output_type": "execute_result"
    }
   ],
   "source": [
    "rf.score(sent_vector_test, test_labels.astype(int))"
   ]
  }
 ],
 "metadata": {
  "kernelspec": {
   "display_name": "Python 3 (ipykernel)",
   "language": "python",
   "name": "python3"
  },
  "language_info": {
   "codemirror_mode": {
    "name": "ipython",
    "version": 3
   },
   "file_extension": ".py",
   "mimetype": "text/x-python",
   "name": "python",
   "nbconvert_exporter": "python",
   "pygments_lexer": "ipython3",
   "version": "3.8.12"
  }
 },
 "nbformat": 4,
 "nbformat_minor": 5
}
