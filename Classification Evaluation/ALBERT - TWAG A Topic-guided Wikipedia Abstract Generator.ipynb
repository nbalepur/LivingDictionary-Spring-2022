{
 "cells": [
  {
   "cell_type": "code",
   "execution_count": 1,
   "id": "1142524d",
   "metadata": {},
   "outputs": [],
   "source": [
    "import pickle\n",
    "import wikipediaapi\n",
    "\n",
    "import nltk\n",
    "from nltk.corpus import stopwords\n",
    "import wikipediaapi\n",
    "from nltk.tokenize import RegexpTokenizer\n",
    "import re\n",
    "from bs4 import BeautifulSoup\n",
    "import re\n",
    "\n",
    "from sklearn.model_selection import train_test_split\n",
    "import numpy as np\n",
    "import pandas as pd\n",
    "\n",
    "ps = nltk.stem.porter.PorterStemmer()"
   ]
  },
  {
   "cell_type": "code",
   "execution_count": 2,
   "id": "94577eae",
   "metadata": {},
   "outputs": [],
   "source": [
    "import tensorflow_hub as hub\n",
    "import tensorflow_text\n",
    "import tensorflow as tf"
   ]
  },
  {
   "cell_type": "code",
   "execution_count": 3,
   "id": "cd4a639c",
   "metadata": {},
   "outputs": [],
   "source": [
    "from gensim.models.doc2vec import Doc2Vec, TaggedDocument\n",
    "from sklearn.neighbors import KNeighborsClassifier"
   ]
  },
  {
   "cell_type": "code",
   "execution_count": 4,
   "id": "020eee26",
   "metadata": {},
   "outputs": [],
   "source": [
    "section = \"history\""
   ]
  },
  {
   "cell_type": "code",
   "execution_count": 5,
   "id": "7ac3f679",
   "metadata": {},
   "outputs": [],
   "source": [
    "with open('../Instance Classification/section_dict.pkl', 'rb') as f:\n",
    "    section_dict = pickle.load(f)"
   ]
  },
  {
   "cell_type": "markdown",
   "id": "9006ca91",
   "metadata": {},
   "source": [
    "## Creating Training Data"
   ]
  },
  {
   "cell_type": "code",
   "execution_count": 6,
   "id": "baf64c2f",
   "metadata": {},
   "outputs": [],
   "source": [
    "wiki_wiki = wikipediaapi.Wikipedia('en', extract_format = wikipediaapi.ExtractFormat.HTML)\n",
    "section_titles, related_keywords = section_dict[ps.stem(section)]"
   ]
  },
  {
   "cell_type": "code",
   "execution_count": 7,
   "id": "e0568875",
   "metadata": {},
   "outputs": [
    {
     "name": "stdout",
     "output_type": "stream",
     "text": [
      "0 system dynamics\n",
      "100 agile method\n",
      "200 teaching\n",
      "300 cache line\n",
      "400 compositionality\n",
      "500 attribute grammar\n",
      "600 outsourcing\n",
      "700 gamification\n"
     ]
    }
   ],
   "source": [
    "data_raw = []\n",
    "documents = []\n",
    "itr = [0]\n",
    "\n",
    "def get_data(data_raw, documents, kw, section, itr):\n",
    "\n",
    "    try:\n",
    "    \n",
    "        page = wiki_wiki.page(kw)\n",
    "        kw_data = []\n",
    "\n",
    "        for section_ in page.sections:\n",
    "            title, content = section_.title, section_.text\n",
    "            soup = BeautifulSoup(content, \"html.parser\")\n",
    "\n",
    "            for p in soup.findAll(\"p\"):\n",
    "                p_text = p.text\n",
    "                kw_data.append((kw, p_text, (ps.stem(title) == ps.stem(section))))\n",
    "\n",
    "        data_raw.extend(kw_data)\n",
    "\n",
    "    except:\n",
    "        \n",
    "        get_data(data_raw, documents, kw, section, itr)\n",
    "\n",
    "for i, kw in enumerate(related_keywords):\n",
    "    \n",
    "    if i % 100 == 0:\n",
    "        print(i, kw)\n",
    "\n",
    "    get_data(data_raw, documents, kw, section, itr)"
   ]
  },
  {
   "cell_type": "code",
   "execution_count": 8,
   "id": "f6cbae73",
   "metadata": {},
   "outputs": [],
   "source": [
    "df = pd.DataFrame(data_raw, columns = [\"keyword\", \"sentences\", \"label\"])"
   ]
  },
  {
   "cell_type": "code",
   "execution_count": 9,
   "id": "75ba9afb",
   "metadata": {},
   "outputs": [],
   "source": [
    "data = pd.DataFrame(columns = df.columns)\n",
    "for kw in related_keywords:\n",
    "    df_subset = df[df[\"keyword\"] == kw]\n",
    "    \n",
    "    pos_data = df_subset[df_subset[\"label\"] != False]\n",
    "    neg_data = df_subset[df_subset[\"label\"] == False]\n",
    "    \n",
    "    num_pos, num_neg = len(pos_data), len(neg_data)\n",
    "    \n",
    "    if num_pos >= num_neg:\n",
    "        data = pd.concat((data, pos_data, neg_data), axis = 0)\n",
    "    else:\n",
    "        data = pd.concat((data, pos_data, neg_data.sample(n = num_pos)), axis = 0)"
   ]
  },
  {
   "cell_type": "markdown",
   "id": "b5ade7ef",
   "metadata": {},
   "source": [
    "## Training ALBERT"
   ]
  },
  {
   "cell_type": "code",
   "execution_count": 10,
   "id": "1a67cb94",
   "metadata": {},
   "outputs": [],
   "source": [
    "def clean_text(text):\n",
    "    cleaned_text = re.sub(r'[^A-Za-z0-9 ]+', '', text)\n",
    "    return cleaned_text.lower()\n",
    "    \n",
    "def clean_instances(data):\n",
    "    instances = data[\"sentences\"]\n",
    "    cleaned_instances = [clean_text(inst) for inst in instances]\n",
    "    \n",
    "    df_new = pd.DataFrame(columns = data.columns)\n",
    "    df_new[data.columns] = data[data.columns]\n",
    "    df_new[\"sentences\"] = cleaned_instances\n",
    "    \n",
    "    return df_new\n",
    "    \n",
    "\n",
    "data_clean = clean_instances(data)\n",
    "\n",
    "train_text, test_text, train_labels, test_labels = train_test_split(data_clean[\"sentences\"], data_clean[\"label\"], test_size = 0.2)\n",
    "\n",
    "train_text, test_text, np.array(train_text), np.array(test_text)\n",
    "train_labels, test_labels = np.array(train_labels), np.array(test_labels)"
   ]
  },
  {
   "cell_type": "code",
   "execution_count": 11,
   "id": "86d4d23e",
   "metadata": {},
   "outputs": [],
   "source": [
    "albert_url='https://tfhub.dev/tensorflow/albert_en_base/2'\n",
    "encoder = hub.KerasLayer(albert_url)\n",
    "\n",
    "preprocessor_url=\"https://tfhub.dev/tensorflow/albert_en_preprocess/3\"\n",
    "preprocessor = hub.KerasLayer(preprocessor_url)"
   ]
  },
  {
   "cell_type": "code",
   "execution_count": 12,
   "id": "90d9b86a",
   "metadata": {},
   "outputs": [],
   "source": [
    "text_input = tf.keras.layers.Input(shape=(), dtype=tf.string)\n",
    "encoder_inputs = preprocessor(text_input)"
   ]
  },
  {
   "cell_type": "code",
   "execution_count": 13,
   "id": "95945736",
   "metadata": {},
   "outputs": [
    {
     "data": {
      "text/plain": [
       "<KerasTensor: shape=(None, 768) dtype=float32 (created by layer 'keras_layer')>"
      ]
     },
     "execution_count": 13,
     "metadata": {},
     "output_type": "execute_result"
    }
   ],
   "source": [
    "outputs = encoder(encoder_inputs)\n",
    "pooled_output = outputs[\"pooled_output\"]     \n",
    "sequence_output = outputs[\"sequence_output\"]\n",
    "pooled_output"
   ]
  },
  {
   "cell_type": "code",
   "execution_count": 14,
   "id": "7337cfff",
   "metadata": {},
   "outputs": [],
   "source": [
    "embedding_model = tf.keras.Model(text_input, pooled_output)"
   ]
  },
  {
   "cell_type": "code",
   "execution_count": 15,
   "id": "38ccee2f",
   "metadata": {},
   "outputs": [],
   "source": [
    "model = tf.keras.Sequential()\n",
    "model.add(embedding_model)\n",
    "\n",
    "model.add(tf.keras.layers.Dense(30, activation='relu'))\n",
    "model.add(tf.keras.layers.BatchNormalization())\n",
    "\n",
    "model.add(tf.keras.layers.Dense(1))\n",
    "model.compile(optimizer = tf.keras.optimizers.Adam(learning_rate=3e-5),\n",
    "              loss=tf.keras.losses.BinaryCrossentropy(from_logits=True),\n",
    "              metrics=['accuracy'])"
   ]
  },
  {
   "cell_type": "code",
   "execution_count": 16,
   "id": "deaa03f5",
   "metadata": {},
   "outputs": [
    {
     "name": "stdout",
     "output_type": "stream",
     "text": [
      "Epoch 1/4\n",
      "126/126 [==============================] - 31528s 252s/step - loss: 0.6816 - accuracy: 0.5568 - val_loss: 0.6690 - val_accuracy: 0.4975\n",
      "Epoch 2/4\n",
      "126/126 [==============================] - 466s 4s/step - loss: 0.5969 - accuracy: 0.6462 - val_loss: 0.6194 - val_accuracy: 0.6683\n",
      "Epoch 3/4\n",
      "126/126 [==============================] - 467s 4s/step - loss: 0.5576 - accuracy: 0.7004 - val_loss: 0.5695 - val_accuracy: 0.7309\n",
      "Epoch 4/4\n",
      "126/126 [==============================] - 3568s 29s/step - loss: 0.5221 - accuracy: 0.7354 - val_loss: 0.5289 - val_accuracy: 0.7597\n"
     ]
    },
    {
     "data": {
      "text/plain": [
       "<keras.callbacks.History at 0x298992261c0>"
      ]
     },
     "execution_count": 16,
     "metadata": {},
     "output_type": "execute_result"
    }
   ],
   "source": [
    "model.fit(train_text, train_labels.astype(int), validation_data = (test_text, test_labels.astype(int)), epochs = 4)"
   ]
  }
 ],
 "metadata": {
  "kernelspec": {
   "display_name": "Python 3 (ipykernel)",
   "language": "python",
   "name": "python3"
  },
  "language_info": {
   "codemirror_mode": {
    "name": "ipython",
    "version": 3
   },
   "file_extension": ".py",
   "mimetype": "text/x-python",
   "name": "python",
   "nbconvert_exporter": "python",
   "pygments_lexer": "ipython3",
   "version": "3.8.12"
  }
 },
 "nbformat": 4,
 "nbformat_minor": 5
}
